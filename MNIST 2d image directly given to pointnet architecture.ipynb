{
 "cells": [
  {
   "cell_type": "code",
   "execution_count": 2,
   "metadata": {},
   "outputs": [
    {
     "ename": "OSError",
     "evalue": "[WinError 1455] The paging file is too small for this operation to complete. Error loading \"C:\\Users\\asvp0\\Anaconda3\\envs\\dl21\\lib\\site-packages\\torch\\lib\\shm.dll\" or one of its dependencies.",
     "output_type": "error",
     "traceback": [
      "\u001b[1;31m---------------------------------------------------------------------------\u001b[0m",
      "\u001b[1;31mOSError\u001b[0m                                   Traceback (most recent call last)",
      "\u001b[1;32m~\\AppData\\Local\\Temp/ipykernel_18608/1005447331.py\u001b[0m in \u001b[0;36m<cell line: 1>\u001b[1;34m()\u001b[0m\n\u001b[1;32m----> 1\u001b[1;33m \u001b[1;32mimport\u001b[0m \u001b[0mtorch\u001b[0m\u001b[1;33m\u001b[0m\u001b[1;33m\u001b[0m\u001b[0m\n\u001b[0m\u001b[0;32m      2\u001b[0m \u001b[1;32mimport\u001b[0m \u001b[0mtorchvision\u001b[0m\u001b[1;33m.\u001b[0m\u001b[0mdatasets\u001b[0m \u001b[1;32mas\u001b[0m \u001b[0mdatasets\u001b[0m\u001b[1;33m\u001b[0m\u001b[1;33m\u001b[0m\u001b[0m\n\u001b[0;32m      3\u001b[0m \u001b[1;32mimport\u001b[0m \u001b[0mmatplotlib\u001b[0m\u001b[1;33m.\u001b[0m\u001b[0mpyplot\u001b[0m \u001b[1;32mas\u001b[0m \u001b[0mplt\u001b[0m\u001b[1;33m\u001b[0m\u001b[1;33m\u001b[0m\u001b[0m\n\u001b[0;32m      4\u001b[0m \u001b[1;32mimport\u001b[0m \u001b[0mos\u001b[0m\u001b[1;33m\u001b[0m\u001b[1;33m\u001b[0m\u001b[0m\n\u001b[0;32m      5\u001b[0m \u001b[1;32mimport\u001b[0m \u001b[0mos\u001b[0m\u001b[1;33m.\u001b[0m\u001b[0mpath\u001b[0m\u001b[1;33m\u001b[0m\u001b[1;33m\u001b[0m\u001b[0m\n",
      "\u001b[1;32m~\\Anaconda3\\envs\\dl21\\lib\\site-packages\\torch\\__init__.py\u001b[0m in \u001b[0;36m<module>\u001b[1;34m\u001b[0m\n\u001b[0;32m    124\u001b[0m                 \u001b[0merr\u001b[0m \u001b[1;33m=\u001b[0m \u001b[0mctypes\u001b[0m\u001b[1;33m.\u001b[0m\u001b[0mWinError\u001b[0m\u001b[1;33m(\u001b[0m\u001b[0mlast_error\u001b[0m\u001b[1;33m)\u001b[0m\u001b[1;33m\u001b[0m\u001b[1;33m\u001b[0m\u001b[0m\n\u001b[0;32m    125\u001b[0m                 \u001b[0merr\u001b[0m\u001b[1;33m.\u001b[0m\u001b[0mstrerror\u001b[0m \u001b[1;33m+=\u001b[0m \u001b[1;34mf' Error loading \"{dll}\" or one of its dependencies.'\u001b[0m\u001b[1;33m\u001b[0m\u001b[1;33m\u001b[0m\u001b[0m\n\u001b[1;32m--> 126\u001b[1;33m                 \u001b[1;32mraise\u001b[0m \u001b[0merr\u001b[0m\u001b[1;33m\u001b[0m\u001b[1;33m\u001b[0m\u001b[0m\n\u001b[0m\u001b[0;32m    127\u001b[0m             \u001b[1;32melif\u001b[0m \u001b[0mres\u001b[0m \u001b[1;32mis\u001b[0m \u001b[1;32mnot\u001b[0m \u001b[1;32mNone\u001b[0m\u001b[1;33m:\u001b[0m\u001b[1;33m\u001b[0m\u001b[1;33m\u001b[0m\u001b[0m\n\u001b[0;32m    128\u001b[0m                 \u001b[0mis_loaded\u001b[0m \u001b[1;33m=\u001b[0m \u001b[1;32mTrue\u001b[0m\u001b[1;33m\u001b[0m\u001b[1;33m\u001b[0m\u001b[0m\n",
      "\u001b[1;31mOSError\u001b[0m: [WinError 1455] The paging file is too small for this operation to complete. Error loading \"C:\\Users\\asvp0\\Anaconda3\\envs\\dl21\\lib\\site-packages\\torch\\lib\\shm.dll\" or one of its dependencies."
     ]
    }
   ],
   "source": [
    "import torch\n",
    "import torchvision.datasets as datasets\n",
    "import matplotlib.pyplot as plt\n",
    "import os\n",
    "import os.path\n",
    "from pathlib import Path\n",
    "import cv2\n",
    "import numpy as np\n",
    "import random\n",
    "import math\n",
    "from torch.utils.data import Dataset, DataLoader\n",
    "from torchvision import transforms, utils\n",
    "from torchvision.datasets import MNIST\n",
    "import matplotlib.pyplot as plt\n",
    "from torch.utils.data import DataLoader,random_split\n",
    "import torch.nn as nn\n",
    "import numpy as np\n",
    "import torch.nn.functional as F"
   ]
  },
  {
   "cell_type": "code",
   "execution_count": 121,
   "metadata": {},
   "outputs": [],
   "source": [
    "def transform_img2pc(img):\n",
    "    img_array = np.asarray(img)\n",
    "    indices = np.argwhere(img_array > 100)\n",
    "    return indices.astype(np.float32)"
   ]
  },
  {
   "cell_type": "code",
   "execution_count": 122,
   "metadata": {},
   "outputs": [],
   "source": [
    "dataset = MNIST(root='./data', train=True, download=True)\n",
    "len_points = []\n",
    "for idx in range(len(dataset)):\n",
    "    img,label = dataset[idx]\n",
    "    pc = transform_img2pc(img)\n",
    "    len_points.append(len(pc))"
   ]
  },
  {
   "cell_type": "code",
   "execution_count": 123,
   "metadata": {},
   "outputs": [
    {
     "data": {
      "image/png": "[encoded data removed]",
      "text/plain": [
       "<Figure size 432x288 with 1 Axes>"
      ]
     },
     "metadata": {
      "needs_background": "light"
     },
     "output_type": "display_data"
    }
   ],
   "source": [
    "h = plt.hist(len_points)\n",
    "plt.title('Histogram of amount of points per number')\n",
    "plt.savefig('figures/histogram_points_minst.png',dpi=100)"
   ]
  },
  {
   "cell_type": "code",
   "execution_count": 124,
   "metadata": {},
   "outputs": [
    {
     "data": {
      "text/plain": [
       "20"
      ]
     },
     "execution_count": 124,
     "metadata": {},
     "output_type": "execute_result"
    }
   ],
   "source": [
    "min(len_points)"
   ]
  },
  {
   "cell_type": "code",
   "execution_count": 125,
   "metadata": {},
   "outputs": [],
   "source": [
    "##Normalize - axis limits change\n",
    "class Normalize(object):\n",
    "    def __call__(self, pointcloud):\n",
    "        assert len(pointcloud.shape)==2\n",
    "        \n",
    "        #np.mean(pointcloud, axis=1)\n",
    "        #np.expand_dims(np.mean(pointcloud, axis=1), axis=-1)\n",
    "        norm_pointcloud = pointcloud - np.expand_dims(np.mean(pointcloud, axis=1), axis=-1)\n",
    "        norm_pointcloud /= np.max(np.linalg.norm(norm_pointcloud, axis=1))\n",
    "\n",
    "        return  norm_pointcloud"
   ]
  },
  {
   "cell_type": "code",
   "execution_count": 126,
   "metadata": {},
   "outputs": [],
   "source": [
    "class PointSampler(object):\n",
    "    torch.manual_seed(100)\n",
    "    def __init__(self, output_size):\n",
    "        assert isinstance(output_size, int)\n",
    "        self.output_size = output_size\n",
    "    \n",
    "    def __call__(self, pointcloud):\n",
    "        sampled_points = np.zeros((self.output_size, 2))\n",
    "        for i in range(self.output_size):\n",
    "            sampled_points[i] = pointcloud[random.randint(0, pointcloud.T.shape[1] - 1)]\n",
    "            i += 1                   \n",
    "        return sampled_points\n",
    "    \n",
    "# np.random.randint(0, pointcloud.shape[0]-1)  "
   ]
  },
  {
   "cell_type": "code",
   "execution_count": 127,
   "metadata": {},
   "outputs": [],
   "source": [
    "## adding random noise to the point cloud\n",
    "class RandomNoise(object):\n",
    "    def __call__(self, pointcloud):\n",
    "        assert len(pointcloud.shape)==2\n",
    "\n",
    "        noise = np.random.normal(0, 0.002, (pointcloud.shape))\n",
    "    \n",
    "        noisy_pointcloud = pointcloud + noise\n",
    "        return  noisy_pointcloud"
   ]
  },
  {
   "cell_type": "code",
   "execution_count": 128,
   "metadata": {},
   "outputs": [],
   "source": [
    "## adding random rotation to the point cloud\n",
    "class RandRotation_z(object):\n",
    "    def __call__(self, pointcloud):\n",
    "        assert len(pointcloud.shape)==2\n",
    "\n",
    "        theta = random.random() * 2. * math.pi\n",
    "        rot_matrix = np.array([[ math.cos(theta), -math.sin(theta)],\n",
    "                               [ math.sin(theta),  math.cos(theta)]])\n",
    "        \n",
    "        rot_pointcloud = rot_matrix.dot(pointcloud.T).T\n",
    "        return  rot_pointcloud"
   ]
  },
  {
   "cell_type": "code",
   "execution_count": 129,
   "metadata": {},
   "outputs": [],
   "source": [
    "class ToTensor(object):\n",
    "    def __call__(self, pointcloud):\n",
    "        #assert len(pointcloud.shape)==2\n",
    "\n",
    "        return torch.from_numpy(pointcloud)\n",
    "# ToTensor()(noisy_rot_pointcloud)  "
   ]
  },
  {
   "cell_type": "code",
   "execution_count": 130,
   "metadata": {},
   "outputs": [],
   "source": [
    "def default_transforms():\n",
    "    return transforms.Compose([\n",
    "                                Normalize(),\n",
    "                                ToTensor()\n",
    "                              ])   "
   ]
  },
  {
   "cell_type": "code",
   "execution_count": 131,
   "metadata": {},
   "outputs": [],
   "source": [
    "class MNIST2D(Dataset):\n",
    "    \"\"\"2D MNIST dataset.\"\"\"\n",
    "    \n",
    "    NUM_CLASSIFICATION_CLASSES = 10\n",
    "    POINT_DIMENSION = 2\n",
    "\n",
    "    def __init__(self, dataset, num_points=500, transform=default_transforms()):\n",
    "        self.dataset = dataset\n",
    "        self.transforms = transform\n",
    "        self.number_of_points = num_points\n",
    "\n",
    "    def __len__(self):\n",
    "        return len(self.dataset)\n",
    "    \n",
    "    def __preproc__(self, pointcloud):\n",
    "        if self.transforms:\n",
    "            pointcloud = self.transforms(pointcloud.T)\n",
    "        return pointcloud\n",
    "    \n",
    "    def __getitem__(self, idx):\n",
    "\n",
    "        img,label = dataset[idx]\n",
    "        pc = transform_img2pc(img)   \n",
    "        if self.number_of_points-pc.shape[0]>0:\n",
    "            # repeat some points to reach uniform number of points\n",
    "            sampling_indices = np.random.choice(pc.shape[0], self.number_of_points-pc.shape[0])\n",
    "            new_points = pc[sampling_indices, :]\n",
    "            pc = np.concatenate((pc, new_points),axis=0)\n",
    "        else:\n",
    "            sampling_indices = np.random.choice(pc.shape[0], self.number_of_points)\n",
    "            pc = pc[sampling_indices, :]\n",
    "        pc = self.__preproc__(pc)            \n",
    "        \n",
    "        return pc, label"
   ]
  },
  {
   "cell_type": "code",
   "execution_count": 132,
   "metadata": {},
   "outputs": [],
   "source": [
    "## Hyperparameters\n",
    "\n",
    "dataset='MNIST2D'\n",
    "number_of_points=200\n",
    "batch_size=128\n",
    "learning_rate=0.001\n",
    "number_of_workers=0\n",
    "train_transforms = transforms.Compose([\n",
    "                    Normalize(),\n",
    "                    RandRotation_z(),\n",
    "                    RandomNoise(),\n",
    "                    ToTensor()\n",
    "                    ])"
   ]
  },
  {
   "cell_type": "code",
   "execution_count": 133,
   "metadata": {},
   "outputs": [],
   "source": [
    "## Dataloaders\n",
    "\n",
    "train_dataset = MNIST(root='./data/MNIST', download=True, train=True)\n",
    "test_dataset = MNIST(root='./data/MNIST', download=True, train=False)\n",
    "dataset = torch.utils.data.ConcatDataset([train_dataset, test_dataset])\n",
    "\n",
    "dataset_2d = MNIST2D(dataset, number_of_points)\n",
    "l_data = len(dataset_2d)\n",
    "train_dataset, val_dataset, test_dataset = random_split(dataset_2d,\n",
    "                                          [round(0.8*l_data), round(0.1*l_data), round(0.1*l_data)],\n",
    "                                          generator=torch.Generator().manual_seed(1))\n",
    "\n",
    "train_dataloader = DataLoader(train_dataset, batch_size=batch_size, shuffle=False, drop_last=True)\n",
    "val_dataloader = DataLoader(val_dataset, batch_size=batch_size, shuffle=True, drop_last=True)\n",
    "test_dataloader = DataLoader(test_dataset, batch_size=batch_size, shuffle=False)"
   ]
  },
  {
   "cell_type": "code",
   "execution_count": 134,
   "metadata": {},
   "outputs": [
    {
     "data": {
      "text/plain": [
       "<torch.utils.data.dataset.Subset at 0x2dab491fd90>"
      ]
     },
     "execution_count": 134,
     "metadata": {},
     "output_type": "execute_result"
    }
   ],
   "source": [
    "train_dataset"
   ]
  },
  {
   "cell_type": "code",
   "execution_count": 135,
   "metadata": {},
   "outputs": [],
   "source": [
    "class Tnet(nn.Module):\n",
    "    def __init__(self, k=2):\n",
    "        super().__init__()\n",
    "        self.k=k\n",
    "        self.conv1 = nn.Conv1d(k,64,1)\n",
    "        self.conv2 = nn.Conv1d(64,128,1)\n",
    "        self.conv3 = nn.Conv1d(128,1024,1)\n",
    "        self.fc1 = nn.Linear(1024,512)\n",
    "        self.fc2 = nn.Linear(512,256)\n",
    "        self.fc3 = nn.Linear(256,k*k)\n",
    "\n",
    "        self.bn1 = nn.BatchNorm1d(64)\n",
    "        self.bn2 = nn.BatchNorm1d(128)\n",
    "        self.bn3 = nn.BatchNorm1d(1024)\n",
    "        self.bn4 = nn.BatchNorm1d(512)\n",
    "        self.bn5 = nn.BatchNorm1d(256)\n",
    "       \n",
    "\n",
    "    def forward(self, input):\n",
    "        # input.shape == (bs,n,2)\n",
    "        bs = input.size(0)\n",
    "        xb = F.relu(self.bn1(self.conv1(input)))\n",
    "        xb = F.relu(self.bn2(self.conv2(xb)))\n",
    "        xb = F.relu(self.bn3(self.conv3(xb)))\n",
    "        pool = nn.MaxPool1d(xb.size(-1))(xb)\n",
    "        flat = nn.Flatten(1)(pool)\n",
    "        xb = F.relu(self.bn4(self.fc1(flat)))\n",
    "        xb = F.relu(self.bn5(self.fc2(xb)))\n",
    "\n",
    "        #initialize as identity\n",
    "        init = torch.eye(self.k, requires_grad=True).repeat(bs,1,1)\n",
    "        if xb.is_cuda:\n",
    "            init=init.cuda()\n",
    "        matrix = self.fc3(xb).view(-1,self.k,self.k) + init\n",
    "        return matrix\n",
    "\n",
    "\n",
    "class Transform(nn.Module):\n",
    "    def __init__(self):\n",
    "        super().__init__()\n",
    "        self.input_transform = Tnet(k=2)\n",
    "        self.feature_transform = Tnet(k=64)\n",
    "        self.conv1 = nn.Conv1d(2,64,1)\n",
    "\n",
    "        self.conv2 = nn.Conv1d(64,128,1)\n",
    "        self.conv3 = nn.Conv1d(128,1024,1)\n",
    "       \n",
    "\n",
    "        self.bn1 = nn.BatchNorm1d(64)\n",
    "        self.bn2 = nn.BatchNorm1d(128)\n",
    "        self.bn3 = nn.BatchNorm1d(1024)\n",
    "       \n",
    "    def forward(self, input):\n",
    "        matrix2x2 = self.input_transform(input)\n",
    "        # batch matrix multiplication\n",
    "        xb = torch.bmm(torch.transpose(input,1,2), matrix2x2).transpose(1,2)\n",
    "\n",
    "        xb = F.relu(self.bn1(self.conv1(xb)))\n",
    "\n",
    "        matrix64x64 = self.feature_transform(xb)\n",
    "        xb = torch.bmm(torch.transpose(xb,1,2), matrix64x64).transpose(1,2)\n",
    "\n",
    "        xb = F.relu(self.bn2(self.conv2(xb)))\n",
    "        xb = self.bn3(self.conv3(xb))\n",
    "        xb = nn.MaxPool1d(xb.size(-1))(xb)\n",
    "        output = nn.Flatten(1)(xb)\n",
    "        return output, matrix2x2, matrix64x64\n",
    "\n",
    "class PointNet(nn.Module):\n",
    "    def __init__(self, classes = 10):\n",
    "        super().__init__()\n",
    "        self.transform = Transform()\n",
    "        self.fc1 = nn.Linear(1024, 512)\n",
    "        self.fc2 = nn.Linear(512, 256)\n",
    "        self.fc3 = nn.Linear(256, classes)\n",
    "        \n",
    "\n",
    "        self.bn1 = nn.BatchNorm1d(512)\n",
    "        self.bn2 = nn.BatchNorm1d(256)\n",
    "        self.dropout = nn.Dropout(p=0.3)\n",
    "        self.logsoftmax = nn.LogSoftmax(dim=1)\n",
    "\n",
    "    def forward(self, input):\n",
    "        xb, matrix2x2, matrix64x64 = self.transform(input)\n",
    "        xb = F.relu(self.bn1(self.fc1(xb)))\n",
    "        xb = F.relu(self.bn2(self.dropout(self.fc2(xb))))\n",
    "        output = self.fc3(xb)\n",
    "        return self.logsoftmax(output), matrix2x2, matrix64x64"
   ]
  },
  {
   "cell_type": "code",
   "execution_count": 136,
   "metadata": {},
   "outputs": [],
   "source": [
    "def pointnetloss(outputs, labels, m2x2, m64x64, alpha = 0.0001):\n",
    "    criterion = torch.nn.NLLLoss()\n",
    "    bs=outputs.size(0)\n",
    "    id2x2 = torch.eye(2, requires_grad=True).repeat(bs,1,1)\n",
    "    id64x64 = torch.eye(64, requires_grad=True).repeat(bs,1,1)\n",
    "    if outputs.is_cuda:\n",
    "        id2x2=id2x2.cuda()\n",
    "        id64x64=id64x64.cuda()\n",
    "    diff2x2 = id2x2-torch.bmm(m2x2,m2x2.transpose(1,2))\n",
    "    diff64x64 = id64x64-torch.bmm(m64x64,m64x64.transpose(1,2))\n",
    "    return criterion(outputs, labels) + alpha * (torch.norm(diff2x2)+torch.norm(diff64x64)) / float(bs)"
   ]
  },
  {
   "cell_type": "code",
   "execution_count": 137,
   "metadata": {},
   "outputs": [
    {
     "name": "stdout",
     "output_type": "stream",
     "text": [
      "cuda:0\n"
     ]
    }
   ],
   "source": [
    "device = torch.device(\"cuda:0\" if torch.cuda.is_available() else \"cpu\")\n",
    "print(device)"
   ]
  },
  {
   "cell_type": "code",
   "execution_count": 138,
   "metadata": {},
   "outputs": [],
   "source": [
    "pointnet = PointNet()\n",
    "pointnet.to(device);"
   ]
  },
  {
   "cell_type": "code",
   "execution_count": 139,
   "metadata": {},
   "outputs": [],
   "source": [
    "optimizer = torch.optim.Adam(pointnet.parameters(), lr=0.001)"
   ]
  },
  {
   "cell_type": "code",
   "execution_count": 140,
   "metadata": {},
   "outputs": [],
   "source": [
    "def train(model, train_loader, val_loader=None,  epochs= 5, save=True):\n",
    "    for epoch in range(epochs): \n",
    "        pointnet.train()\n",
    "        running_loss = 0.0\n",
    "        for i, data in enumerate(train_loader, 0):\n",
    "            inputs, labels = data\n",
    "            if torch.cuda.is_available():\n",
    "                inputs, labels = inputs.cuda(), labels.cuda()\n",
    "            optimizer.zero_grad()\n",
    "            outputs, m3x3, m64x64 = pointnet(inputs)\n",
    "\n",
    "            loss = pointnetloss(outputs, labels, m3x3, m64x64)\n",
    "            loss.backward()\n",
    "            optimizer.step()\n",
    "\n",
    "            # print statistics\n",
    "            running_loss += loss.item()\n",
    "            if i % 10 == 9:    # print every 10 mini-batches\n",
    "                    print('[Epoch: %d, Batch: %4d / %4d], loss: %.3f' %\n",
    "                        (epoch + 1, i + 1, len(train_loader), running_loss / 10))\n",
    "                    running_loss = 0.0\n",
    "\n",
    "        pointnet.eval()\n",
    "        correct = total = 0\n",
    "\n",
    "        # validation\n",
    "        if val_loader:\n",
    "            with torch.no_grad():\n",
    "                for data in val_dataloader:\n",
    "                    inputs, labels = data\n",
    "                    if torch.cuda.is_available():\n",
    "                        inputs, labels = inputs.cuda(), labels.cuda()\n",
    "                    outputs, __, __ = pointnet(inputs)\n",
    "                    _, predicted = torch.max(outputs.data, 1)\n",
    "                    total += labels.size(0)\n",
    "                    correct += (predicted == labels).sum().item()\n",
    "            val_acc = 100. * correct / total\n",
    "            print('Valid accuracy: %d %%' % val_acc)\n",
    "\n",
    "        # save the model\n",
    "        if save:\n",
    "            torch.save(pointnet.state_dict(), \"save_\"+str(epoch)+\".pth\")"
   ]
  },
  {
   "cell_type": "code",
   "execution_count": 141,
   "metadata": {
    "scrolled": true
   },
   "outputs": [
    {
     "name": "stdout",
     "output_type": "stream",
     "text": [
      "[Epoch: 1, Batch:   10 /  437], loss: 1.917\n",
      "[Epoch: 1, Batch:   20 /  437], loss: 1.306\n",
      "[Epoch: 1, Batch:   30 /  437], loss: 0.980\n",
      "[Epoch: 1, Batch:   40 /  437], loss: 0.727\n",
      "[Epoch: 1, Batch:   50 /  437], loss: 0.564\n",
      "[Epoch: 1, Batch:   60 /  437], loss: 0.572\n",
      "[Epoch: 1, Batch:   70 /  437], loss: 0.490\n",
      "[Epoch: 1, Batch:   80 /  437], loss: 0.449\n",
      "[Epoch: 1, Batch:   90 /  437], loss: 0.393\n",
      "[Epoch: 1, Batch:  100 /  437], loss: 0.342\n",
      "[Epoch: 1, Batch:  110 /  437], loss: 0.296\n",
      "[Epoch: 1, Batch:  120 /  437], loss: 0.364\n",
      "[Epoch: 1, Batch:  130 /  437], loss: 0.266\n",
      "[Epoch: 1, Batch:  140 /  437], loss: 0.302\n",
      "[Epoch: 1, Batch:  150 /  437], loss: 0.236\n",
      "[Epoch: 1, Batch:  160 /  437], loss: 0.276\n",
      "[Epoch: 1, Batch:  170 /  437], loss: 0.289\n",
      "[Epoch: 1, Batch:  180 /  437], loss: 0.301\n",
      "[Epoch: 1, Batch:  190 /  437], loss: 0.258\n",
      "[Epoch: 1, Batch:  200 /  437], loss: 0.249\n",
      "[Epoch: 1, Batch:  210 /  437], loss: 0.217\n",
      "[Epoch: 1, Batch:  220 /  437], loss: 0.232\n",
      "[Epoch: 1, Batch:  230 /  437], loss: 0.215\n",
      "[Epoch: 1, Batch:  240 /  437], loss: 0.229\n",
      "[Epoch: 1, Batch:  250 /  437], loss: 0.208\n",
      "[Epoch: 1, Batch:  260 /  437], loss: 0.211\n",
      "[Epoch: 1, Batch:  270 /  437], loss: 0.182\n",
      "[Epoch: 1, Batch:  280 /  437], loss: 0.212\n",
      "[Epoch: 1, Batch:  290 /  437], loss: 0.212\n",
      "[Epoch: 1, Batch:  300 /  437], loss: 0.208\n",
      "[Epoch: 1, Batch:  310 /  437], loss: 0.260\n",
      "[Epoch: 1, Batch:  320 /  437], loss: 0.223\n",
      "[Epoch: 1, Batch:  330 /  437], loss: 0.212\n",
      "[Epoch: 1, Batch:  340 /  437], loss: 0.210\n",
      "[Epoch: 1, Batch:  350 /  437], loss: 0.152\n",
      "[Epoch: 1, Batch:  360 /  437], loss: 0.154\n",
      "[Epoch: 1, Batch:  370 /  437], loss: 0.185\n",
      "[Epoch: 1, Batch:  380 /  437], loss: 0.151\n",
      "[Epoch: 1, Batch:  390 /  437], loss: 0.165\n",
      "[Epoch: 1, Batch:  400 /  437], loss: 0.165\n",
      "[Epoch: 1, Batch:  410 /  437], loss: 0.179\n",
      "[Epoch: 1, Batch:  420 /  437], loss: 0.154\n",
      "[Epoch: 1, Batch:  430 /  437], loss: 0.172\n",
      "Valid accuracy: 88 %\n",
      "[Epoch: 2, Batch:   10 /  437], loss: 0.172\n",
      "[Epoch: 2, Batch:   20 /  437], loss: 0.152\n",
      "[Epoch: 2, Batch:   30 /  437], loss: 0.164\n",
      "[Epoch: 2, Batch:   40 /  437], loss: 0.154\n",
      "[Epoch: 2, Batch:   50 /  437], loss: 0.171\n",
      "[Epoch: 2, Batch:   60 /  437], loss: 0.177\n",
      "[Epoch: 2, Batch:   70 /  437], loss: 0.203\n",
      "[Epoch: 2, Batch:   80 /  437], loss: 0.177\n",
      "[Epoch: 2, Batch:   90 /  437], loss: 0.118\n",
      "[Epoch: 2, Batch:  100 /  437], loss: 0.112\n",
      "[Epoch: 2, Batch:  110 /  437], loss: 0.125\n",
      "[Epoch: 2, Batch:  120 /  437], loss: 0.122\n",
      "[Epoch: 2, Batch:  130 /  437], loss: 0.120\n",
      "[Epoch: 2, Batch:  140 /  437], loss: 0.167\n",
      "[Epoch: 2, Batch:  150 /  437], loss: 0.138\n",
      "[Epoch: 2, Batch:  160 /  437], loss: 0.102\n",
      "[Epoch: 2, Batch:  170 /  437], loss: 0.158\n",
      "[Epoch: 2, Batch:  180 /  437], loss: 0.214\n",
      "[Epoch: 2, Batch:  190 /  437], loss: 0.155\n",
      "[Epoch: 2, Batch:  200 /  437], loss: 0.153\n",
      "[Epoch: 2, Batch:  210 /  437], loss: 0.111\n",
      "[Epoch: 2, Batch:  220 /  437], loss: 0.139\n",
      "[Epoch: 2, Batch:  230 /  437], loss: 0.126\n",
      "[Epoch: 2, Batch:  240 /  437], loss: 0.144\n",
      "[Epoch: 2, Batch:  250 /  437], loss: 0.134\n",
      "[Epoch: 2, Batch:  260 /  437], loss: 0.131\n",
      "[Epoch: 2, Batch:  270 /  437], loss: 0.124\n",
      "[Epoch: 2, Batch:  280 /  437], loss: 0.156\n",
      "[Epoch: 2, Batch:  290 /  437], loss: 0.168\n",
      "[Epoch: 2, Batch:  300 /  437], loss: 0.162\n",
      "[Epoch: 2, Batch:  310 /  437], loss: 0.177\n",
      "[Epoch: 2, Batch:  320 /  437], loss: 0.157\n",
      "[Epoch: 2, Batch:  330 /  437], loss: 0.134\n",
      "[Epoch: 2, Batch:  340 /  437], loss: 0.166\n",
      "[Epoch: 2, Batch:  350 /  437], loss: 0.114\n",
      "[Epoch: 2, Batch:  360 /  437], loss: 0.137\n",
      "[Epoch: 2, Batch:  370 /  437], loss: 0.121\n",
      "[Epoch: 2, Batch:  380 /  437], loss: 0.106\n",
      "[Epoch: 2, Batch:  390 /  437], loss: 0.117\n",
      "[Epoch: 2, Batch:  400 /  437], loss: 0.125\n",
      "[Epoch: 2, Batch:  410 /  437], loss: 0.112\n",
      "[Epoch: 2, Batch:  420 /  437], loss: 0.096\n",
      "[Epoch: 2, Batch:  430 /  437], loss: 0.116\n",
      "Valid accuracy: 91 %\n",
      "[Epoch: 3, Batch:   10 /  437], loss: 0.125\n",
      "[Epoch: 3, Batch:   20 /  437], loss: 0.090\n",
      "[Epoch: 3, Batch:   30 /  437], loss: 0.118\n",
      "[Epoch: 3, Batch:   40 /  437], loss: 0.099\n",
      "[Epoch: 3, Batch:   50 /  437], loss: 0.124\n",
      "[Epoch: 3, Batch:   60 /  437], loss: 0.110\n",
      "[Epoch: 3, Batch:   70 /  437], loss: 0.151\n",
      "[Epoch: 3, Batch:   80 /  437], loss: 0.136\n",
      "[Epoch: 3, Batch:   90 /  437], loss: 0.133\n",
      "[Epoch: 3, Batch:  100 /  437], loss: 0.093\n",
      "[Epoch: 3, Batch:  110 /  437], loss: 0.132\n",
      "[Epoch: 3, Batch:  120 /  437], loss: 0.116\n",
      "[Epoch: 3, Batch:  130 /  437], loss: 0.114\n",
      "[Epoch: 3, Batch:  140 /  437], loss: 0.147\n",
      "[Epoch: 3, Batch:  150 /  437], loss: 0.112\n",
      "[Epoch: 3, Batch:  160 /  437], loss: 0.100\n",
      "[Epoch: 3, Batch:  170 /  437], loss: 0.121\n",
      "[Epoch: 3, Batch:  180 /  437], loss: 0.161\n",
      "[Epoch: 3, Batch:  190 /  437], loss: 0.106\n",
      "[Epoch: 3, Batch:  200 /  437], loss: 0.136\n",
      "[Epoch: 3, Batch:  210 /  437], loss: 0.085\n",
      "[Epoch: 3, Batch:  220 /  437], loss: 0.101\n",
      "[Epoch: 3, Batch:  230 /  437], loss: 0.095\n",
      "[Epoch: 3, Batch:  240 /  437], loss: 0.096\n",
      "[Epoch: 3, Batch:  250 /  437], loss: 0.084\n",
      "[Epoch: 3, Batch:  260 /  437], loss: 0.086\n",
      "[Epoch: 3, Batch:  270 /  437], loss: 0.090\n",
      "[Epoch: 3, Batch:  280 /  437], loss: 0.112\n",
      "[Epoch: 3, Batch:  290 /  437], loss: 0.126\n",
      "[Epoch: 3, Batch:  300 /  437], loss: 0.125\n",
      "[Epoch: 3, Batch:  310 /  437], loss: 0.164\n",
      "[Epoch: 3, Batch:  320 /  437], loss: 0.107\n",
      "[Epoch: 3, Batch:  330 /  437], loss: 0.099\n",
      "[Epoch: 3, Batch:  340 /  437], loss: 0.123\n",
      "[Epoch: 3, Batch:  350 /  437], loss: 0.093\n",
      "[Epoch: 3, Batch:  360 /  437], loss: 0.091\n",
      "[Epoch: 3, Batch:  370 /  437], loss: 0.096\n",
      "[Epoch: 3, Batch:  380 /  437], loss: 0.079\n",
      "[Epoch: 3, Batch:  390 /  437], loss: 0.078\n",
      "[Epoch: 3, Batch:  400 /  437], loss: 0.097\n",
      "[Epoch: 3, Batch:  410 /  437], loss: 0.094\n",
      "[Epoch: 3, Batch:  420 /  437], loss: 0.080\n",
      "[Epoch: 3, Batch:  430 /  437], loss: 0.115\n",
      "Valid accuracy: 85 %\n",
      "[Epoch: 4, Batch:   10 /  437], loss: 0.119\n",
      "[Epoch: 4, Batch:   20 /  437], loss: 0.111\n",
      "[Epoch: 4, Batch:   30 /  437], loss: 0.130\n",
      "[Epoch: 4, Batch:   40 /  437], loss: 0.112\n",
      "[Epoch: 4, Batch:   50 /  437], loss: 0.105\n",
      "[Epoch: 4, Batch:   60 /  437], loss: 0.112\n",
      "[Epoch: 4, Batch:   70 /  437], loss: 0.094\n",
      "[Epoch: 4, Batch:   80 /  437], loss: 0.109\n",
      "[Epoch: 4, Batch:   90 /  437], loss: 0.086\n",
      "[Epoch: 4, Batch:  100 /  437], loss: 0.090\n",
      "[Epoch: 4, Batch:  110 /  437], loss: 0.097\n",
      "[Epoch: 4, Batch:  120 /  437], loss: 0.071\n",
      "[Epoch: 4, Batch:  130 /  437], loss: 0.080\n",
      "[Epoch: 4, Batch:  140 /  437], loss: 0.114\n",
      "[Epoch: 4, Batch:  150 /  437], loss: 0.084\n",
      "[Epoch: 4, Batch:  160 /  437], loss: 0.076\n",
      "[Epoch: 4, Batch:  170 /  437], loss: 0.107\n",
      "[Epoch: 4, Batch:  180 /  437], loss: 0.154\n",
      "[Epoch: 4, Batch:  190 /  437], loss: 0.109\n",
      "[Epoch: 4, Batch:  200 /  437], loss: 0.103\n",
      "[Epoch: 4, Batch:  210 /  437], loss: 0.055\n",
      "[Epoch: 4, Batch:  220 /  437], loss: 0.093\n",
      "[Epoch: 4, Batch:  230 /  437], loss: 0.090\n",
      "[Epoch: 4, Batch:  240 /  437], loss: 0.092\n",
      "[Epoch: 4, Batch:  250 /  437], loss: 0.071\n",
      "[Epoch: 4, Batch:  260 /  437], loss: 0.082\n",
      "[Epoch: 4, Batch:  270 /  437], loss: 0.083\n",
      "[Epoch: 4, Batch:  280 /  437], loss: 0.094\n",
      "[Epoch: 4, Batch:  290 /  437], loss: 0.101\n",
      "[Epoch: 4, Batch:  300 /  437], loss: 0.102\n",
      "[Epoch: 4, Batch:  310 /  437], loss: 0.122\n",
      "[Epoch: 4, Batch:  320 /  437], loss: 0.100\n",
      "[Epoch: 4, Batch:  330 /  437], loss: 0.080\n",
      "[Epoch: 4, Batch:  340 /  437], loss: 0.102\n",
      "[Epoch: 4, Batch:  350 /  437], loss: 0.075\n",
      "[Epoch: 4, Batch:  360 /  437], loss: 0.092\n",
      "[Epoch: 4, Batch:  370 /  437], loss: 0.108\n",
      "[Epoch: 4, Batch:  380 /  437], loss: 0.082\n",
      "[Epoch: 4, Batch:  390 /  437], loss: 0.075\n",
      "[Epoch: 4, Batch:  400 /  437], loss: 0.095\n",
      "[Epoch: 4, Batch:  410 /  437], loss: 0.106\n",
      "[Epoch: 4, Batch:  420 /  437], loss: 0.072\n",
      "[Epoch: 4, Batch:  430 /  437], loss: 0.091\n",
      "Valid accuracy: 87 %\n",
      "[Epoch: 5, Batch:   10 /  437], loss: 0.102\n",
      "[Epoch: 5, Batch:   20 /  437], loss: 0.072\n",
      "[Epoch: 5, Batch:   30 /  437], loss: 0.093\n",
      "[Epoch: 5, Batch:   40 /  437], loss: 0.082\n",
      "[Epoch: 5, Batch:   50 /  437], loss: 0.095\n",
      "[Epoch: 5, Batch:   60 /  437], loss: 0.093\n",
      "[Epoch: 5, Batch:   70 /  437], loss: 0.115\n",
      "[Epoch: 5, Batch:   80 /  437], loss: 0.122\n",
      "[Epoch: 5, Batch:   90 /  437], loss: 0.087\n",
      "[Epoch: 5, Batch:  100 /  437], loss: 0.074\n",
      "[Epoch: 5, Batch:  110 /  437], loss: 0.084\n",
      "[Epoch: 5, Batch:  120 /  437], loss: 0.072\n",
      "[Epoch: 5, Batch:  130 /  437], loss: 0.072\n"
     ]
    },
    {
     "name": "stdout",
     "output_type": "stream",
     "text": [
      "[Epoch: 5, Batch:  140 /  437], loss: 0.099\n",
      "[Epoch: 5, Batch:  150 /  437], loss: 0.072\n",
      "[Epoch: 5, Batch:  160 /  437], loss: 0.074\n",
      "[Epoch: 5, Batch:  170 /  437], loss: 0.084\n",
      "[Epoch: 5, Batch:  180 /  437], loss: 0.122\n",
      "[Epoch: 5, Batch:  190 /  437], loss: 0.095\n",
      "[Epoch: 5, Batch:  200 /  437], loss: 0.074\n",
      "[Epoch: 5, Batch:  210 /  437], loss: 0.051\n",
      "[Epoch: 5, Batch:  220 /  437], loss: 0.084\n",
      "[Epoch: 5, Batch:  230 /  437], loss: 0.085\n",
      "[Epoch: 5, Batch:  240 /  437], loss: 0.077\n",
      "[Epoch: 5, Batch:  250 /  437], loss: 0.071\n",
      "[Epoch: 5, Batch:  260 /  437], loss: 0.056\n",
      "[Epoch: 5, Batch:  270 /  437], loss: 0.060\n",
      "[Epoch: 5, Batch:  280 /  437], loss: 0.076\n",
      "[Epoch: 5, Batch:  290 /  437], loss: 0.097\n",
      "[Epoch: 5, Batch:  300 /  437], loss: 0.087\n",
      "[Epoch: 5, Batch:  310 /  437], loss: 0.129\n",
      "[Epoch: 5, Batch:  320 /  437], loss: 0.105\n",
      "[Epoch: 5, Batch:  330 /  437], loss: 0.093\n",
      "[Epoch: 5, Batch:  340 /  437], loss: 0.093\n",
      "[Epoch: 5, Batch:  350 /  437], loss: 0.056\n",
      "[Epoch: 5, Batch:  360 /  437], loss: 0.079\n",
      "[Epoch: 5, Batch:  370 /  437], loss: 0.093\n",
      "[Epoch: 5, Batch:  380 /  437], loss: 0.060\n",
      "[Epoch: 5, Batch:  390 /  437], loss: 0.066\n",
      "[Epoch: 5, Batch:  400 /  437], loss: 0.082\n",
      "[Epoch: 5, Batch:  410 /  437], loss: 0.083\n",
      "[Epoch: 5, Batch:  420 /  437], loss: 0.065\n",
      "[Epoch: 5, Batch:  430 /  437], loss: 0.075\n",
      "Valid accuracy: 90 %\n"
     ]
    }
   ],
   "source": [
    "train(pointnet, train_dataloader, val_dataloader,  save=True)"
   ]
  },
  {
   "cell_type": "code",
   "execution_count": 142,
   "metadata": {},
   "outputs": [
    {
     "name": "stdout",
     "output_type": "stream",
     "text": [
      "test accuracy: 91 %\n"
     ]
    }
   ],
   "source": [
    "# test evaluation\n",
    "correct = total = 0\n",
    "with torch.no_grad():\n",
    "    for data in test_dataloader:\n",
    "        inputs, labels = data\n",
    "        if torch.cuda.is_available():\n",
    "            inputs, labels = inputs.cuda(), labels.cuda()\n",
    "        outputs, __, __ = pointnet(inputs)\n",
    "        _, predicted = torch.max(outputs.data, 1)\n",
    "        total += labels.size(0)\n",
    "        correct += (predicted == labels).sum().item()\n",
    "test_acc = 100. * correct / total\n",
    "print('test accuracy: %d %%' % test_acc)"
   ]
  },
  {
   "cell_type": "code",
   "execution_count": 143,
   "metadata": {},
   "outputs": [],
   "source": [
    "from sklearn.metrics import confusion_matrix"
   ]
  },
  {
   "cell_type": "code",
   "execution_count": 144,
   "metadata": {
    "scrolled": true
   },
   "outputs": [
    {
     "name": "stdout",
     "output_type": "stream",
     "text": [
      "Batch [   1 /   55]\n",
      "Batch [   2 /   55]\n",
      "Batch [   3 /   55]\n",
      "Batch [   4 /   55]\n",
      "Batch [   5 /   55]\n",
      "Batch [   6 /   55]\n",
      "Batch [   7 /   55]\n",
      "Batch [   8 /   55]\n",
      "Batch [   9 /   55]\n",
      "Batch [  10 /   55]\n",
      "Batch [  11 /   55]\n",
      "Batch [  12 /   55]\n",
      "Batch [  13 /   55]\n",
      "Batch [  14 /   55]\n",
      "Batch [  15 /   55]\n",
      "Batch [  16 /   55]\n",
      "Batch [  17 /   55]\n",
      "Batch [  18 /   55]\n",
      "Batch [  19 /   55]\n",
      "Batch [  20 /   55]\n",
      "Batch [  21 /   55]\n",
      "Batch [  22 /   55]\n",
      "Batch [  23 /   55]\n",
      "Batch [  24 /   55]\n",
      "Batch [  25 /   55]\n",
      "Batch [  26 /   55]\n",
      "Batch [  27 /   55]\n",
      "Batch [  28 /   55]\n",
      "Batch [  29 /   55]\n",
      "Batch [  30 /   55]\n",
      "Batch [  31 /   55]\n",
      "Batch [  32 /   55]\n",
      "Batch [  33 /   55]\n",
      "Batch [  34 /   55]\n",
      "Batch [  35 /   55]\n",
      "Batch [  36 /   55]\n",
      "Batch [  37 /   55]\n",
      "Batch [  38 /   55]\n",
      "Batch [  39 /   55]\n",
      "Batch [  40 /   55]\n",
      "Batch [  41 /   55]\n",
      "Batch [  42 /   55]\n",
      "Batch [  43 /   55]\n",
      "Batch [  44 /   55]\n",
      "Batch [  45 /   55]\n",
      "Batch [  46 /   55]\n",
      "Batch [  47 /   55]\n",
      "Batch [  48 /   55]\n",
      "Batch [  49 /   55]\n",
      "Batch [  50 /   55]\n",
      "Batch [  51 /   55]\n",
      "Batch [  52 /   55]\n",
      "Batch [  53 /   55]\n",
      "Batch [  54 /   55]\n",
      "Batch [  55 /   55]\n"
     ]
    }
   ],
   "source": [
    "all_preds = []\n",
    "all_labels = []\n",
    "with torch.no_grad():\n",
    "    for i, data in enumerate(test_dataloader):\n",
    "        print('Batch [%4d / %4d]' % (i+1, len(test_dataloader)))\n",
    "        if torch.cuda.is_available():\n",
    "            inputs, labels = inputs.cuda(), labels.cuda()    \n",
    "        outputs, __, __ = pointnet(inputs)\n",
    "        _, preds = torch.max(outputs.data, 1)\n",
    "        all_preds += list(preds.cpu().numpy())\n",
    "        all_labels += list(labels.cpu().numpy())"
   ]
  },
  {
   "cell_type": "code",
   "execution_count": 145,
   "metadata": {},
   "outputs": [
    {
     "data": {
      "text/plain": [
       "array([[220,   0,   0,   0,   0,   0,  55,   0,   0,   0],\n",
       "       [  0, 495,   0,   0,   0,   0,   0,   0,   0,   0],\n",
       "       [  0,   0, 495,   0,   0,   0,   0,   0,   0,   0],\n",
       "       [  0,   0,  55, 385,   0,   0,   0,   0,   0,   0],\n",
       "       [  0,   0,   0,   0, 440,   0,   0,   0,   0,   0],\n",
       "       [  0,   0,   0,   0,   0, 385,  55,   0,   0,   0],\n",
       "       [  0,   0,   0,   0,   0,   0, 825,   0,   0,   0],\n",
       "       [  0,   0,   0,   0,   0,   0,   0, 385,   0,   0],\n",
       "       [  0,   0,   0,   0,   0,   0,  55,   0, 495,   0],\n",
       "       [  0,   0,   0,   0, 385,   0,   0,   0,   0, 110]], dtype=int64)"
      ]
     },
     "execution_count": 145,
     "metadata": {},
     "output_type": "execute_result"
    }
   ],
   "source": [
    "cm = confusion_matrix(all_labels, all_preds);\n",
    "cm"
   ]
  },
  {
   "cell_type": "code",
   "execution_count": 146,
   "metadata": {},
   "outputs": [],
   "source": [
    "classes = [0, 1, 2, 3, 4, 5, 6, 7, 8, 9]"
   ]
  },
  {
   "cell_type": "code",
   "execution_count": 147,
   "metadata": {},
   "outputs": [],
   "source": [
    "import itertools\n",
    "import matplotlib.pyplot as plt\n",
    "\n",
    "# function from https://deeplizard.com/learn/video/0LhiS6yu2qQ\n",
    "def plot_confusion_matrix(cm, classes, normalize=False, title='Confusion matrix', cmap=plt.cm.Blues):\n",
    "    if normalize:\n",
    "        cm = cm.astype('float') / cm.sum(axis=1)[:, np.newaxis]\n",
    "        print(\"Normalized confusion matrix\")\n",
    "    else:\n",
    "        print('Confusion matrix, without normalization')\n",
    "\n",
    "    plt.imshow(cm, interpolation='nearest', cmap=cmap)\n",
    "    plt.title(title)\n",
    "    plt.colorbar()\n",
    "    tick_marks = np.arange(len(classes))\n",
    "    plt.xticks(tick_marks, classes, rotation=45)\n",
    "    plt.yticks(tick_marks, classes)\n",
    "\n",
    "    fmt = '.2f' if normalize else 'd'\n",
    "    thresh = cm.max() / 2.\n",
    "    for i, j in itertools.product(range(cm.shape[0]), range(cm.shape[1])):\n",
    "        plt.text(j, i, format(cm[i, j], fmt), horizontalalignment=\"center\", color=\"white\" if cm[i, j] > thresh else \"black\")\n",
    "\n",
    "    plt.tight_layout()\n",
    "    plt.ylabel('True label')\n",
    "    plt.xlabel('Predicted label')"
   ]
  },
  {
   "cell_type": "code",
   "execution_count": 148,
   "metadata": {},
   "outputs": [
    {
     "name": "stdout",
     "output_type": "stream",
     "text": [
      "Normalized confusion matrix\n"
     ]
    },
    {
     "data": {
      "image/png": "[encoded data removed]",
      "text/plain": [
       "<Figure size 576x576 with 2 Axes>"
      ]
     },
     "metadata": {
      "needs_background": "light"
     },
     "output_type": "display_data"
    }
   ],
   "source": [
    "plt.figure(figsize=(8,8))\n",
    "plot_confusion_matrix(cm, list(classes), normalize=True)"
   ]
  },
  {
   "cell_type": "code",
   "execution_count": null,
   "metadata": {},
   "outputs": [],
   "source": []
  }
 ],
 "metadata": {
  "kernelspec": {
   "display_name": "Python 3 (ipykernel)",
   "language": "python",
   "name": "python3"
  },
  "language_info": {
   "codemirror_mode": {
    "name": "ipython",
    "version": 3
   },
   "file_extension": ".py",
   "mimetype": "text/x-python",
   "name": "python",
   "nbconvert_exporter": "python",
   "pygments_lexer": "ipython3",
   "version": "3.8.5"
  }
 },
 "nbformat": 4,
 "nbformat_minor": 4
}
