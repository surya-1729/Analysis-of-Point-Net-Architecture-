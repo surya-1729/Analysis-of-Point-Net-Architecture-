{
 "cells": [
  {
   "cell_type": "markdown",
   "metadata": {},
   "source": [
    "## Image classification with CNN"
   ]
  },
  {
   "cell_type": "code",
   "execution_count": 1,
   "metadata": {},
   "outputs": [],
   "source": [
    "import torch\n",
    "import torchvision.datasets as datasets\n",
    "from torch.utils.data import DataLoader\n",
    "import torchvision.transforms as transforms\n",
    "import torch.nn as nn\n",
    "import torch.nn.functional as F\n",
    "import torchvision\n",
    "import matplotlib.pyplot as plt\n",
    "import numpy as np\n",
    "from torch.utils.tensorboard import SummaryWriter\n",
    "writer = SummaryWriter(\"logs/CNN/MNIST\")\n",
    "# import albumentations as A\n",
    "#from autoaugment import CIFAR10Policy"
   ]
  },
  {
   "cell_type": "markdown",
   "metadata": {},
   "source": [
    "Device Configuration"
   ]
  },
  {
   "cell_type": "code",
   "execution_count": 2,
   "metadata": {},
   "outputs": [
    {
     "name": "stdout",
     "output_type": "stream",
     "text": [
      "cuda\n",
      "NVIDIA GeForce GTX 1660 Ti\n",
      "Memory Usage:\n",
      "Allocated: 0.0 GB\n",
      "Cached:    0.0 GB\n"
     ]
    }
   ],
   "source": [
    "# CUDA for PyTorch\n",
    "device = 'cuda' if torch.cuda.is_available() else 'cpu'\n",
    "print(device)\n",
    "if device == 'cuda':\n",
    "    print(torch.cuda.get_device_name(0))\n",
    "    print('Memory Usage:')\n",
    "    print('Allocated:', round(torch.cuda.memory_allocated(0)/1024**3,1), 'GB')\n",
    "    print('Cached:   ', round(torch.cuda.memory_reserved(0)/1024**3,1), 'GB')"
   ]
  },
  {
   "cell_type": "code",
   "execution_count": 3,
   "metadata": {},
   "outputs": [],
   "source": [
    "# Hyper-parameters \n",
    "num_epochs = 5\n",
    "batch_size = 64\n",
    "learning_rate = 0.01"
   ]
  },
  {
   "cell_type": "markdown",
   "metadata": {},
   "source": [
    "## Step1_Data for our image classification 🔄"
   ]
  },
  {
   "cell_type": "code",
   "execution_count": 4,
   "metadata": {},
   "outputs": [],
   "source": [
    "transform = transforms.Compose(\n",
    "    [transforms.RandomHorizontalFlip(),transforms.ToTensor()\n",
    "     ])\n",
    "\n",
    "batch_size = 64\n",
    "\n",
    "trainset = torchvision.datasets.MNIST(root='.././data', train=True,\n",
    "                                        download=True, transform=transform)\n",
    "trainloader = torch.utils.data.DataLoader(trainset, batch_size=batch_size,\n",
    "                                          shuffle=True, num_workers=2)\n",
    "\n",
    "testset = torchvision.datasets.MNIST(root='.././data', train=False,\n",
    "                                       download=True, transform=transform)\n",
    "testloader = torch.utils.data.DataLoader(testset, batch_size=batch_size,\n",
    "                                         shuffle=False, num_workers=2)\n",
    "\n",
    "classes = ('0', '1', '2', '3',\n",
    "           '4', '5', '6', '7', '8', '9')"
   ]
  },
  {
   "cell_type": "code",
   "execution_count": 5,
   "metadata": {},
   "outputs": [
    {
     "name": "stdout",
     "output_type": "stream",
     "text": [
      "torch.Size([64, 1, 28, 28])\n"
     ]
    }
   ],
   "source": [
    "## just for visualisation\n",
    "# import matplotlib.pyplot as plt\n",
    "# import numpy as np\n",
    "\n",
    "# # functions to show an image\n",
    "# def imshow(img):\n",
    "#     print(img.shape)\n",
    "#     img = img    # unnormalize\n",
    "#     npimg = img.numpy()\n",
    "#     #print(npimg.shape)\n",
    "#     plt.imshow(np.transpose(npimg, (1, 2, 0)))\n",
    "#     plt.show()\n",
    "\n",
    "# get some random training images\n",
    "dataiter = iter(trainloader)\n",
    "images, labels = dataiter.next()\n",
    "print(images.shape)\n",
    "\n",
    "# img_grid = torchvision.utils.make_grid(images)\n",
    "\n",
    "# # show images\n",
    "# imshow(torchvision.utils.make_grid(images))\n",
    "# # print labels\n",
    "# #print(' '.join(f'{classes[labels[j]]:5s}' for j in range(batch_size)))"
   ]
  },
  {
   "cell_type": "markdown",
   "metadata": {},
   "source": [
    "## Step2_Network architecture 🤖"
   ]
  },
  {
   "cell_type": "code",
   "execution_count": 6,
   "metadata": {},
   "outputs": [],
   "source": [
    "import torch.nn as nn\n",
    "import torch.nn.functional as F\n",
    "\n",
    "\n",
    "class Net(nn.Module):\n",
    "    def __init__(self):\n",
    "        super(Net, self).__init__()\n",
    "        self.conv1 = nn.Conv2d(1, 32, 3)\n",
    "        self.conv2 = nn.Conv2d(32, 64, 3)\n",
    "        self.conv3 = nn.Conv2d(64, 128, 3)\n",
    "        self.pool = nn.MaxPool2d(2, 2)\n",
    "        self.flatten = nn.Flatten()\n",
    "        self.fc1 = nn.Linear(128 * 1 * 1, 128)\n",
    "        self.fc2 = nn.Linear(128, 64)\n",
    "        self.fc3 = nn.Linear(64, 32)\n",
    "        self.fc4 = nn.Linear(32, 10)\n",
    "        self.dropout1 = nn.Dropout(p=0.2, inplace=False)\n",
    "    def forward(self, x):\n",
    "        x = self.pool(F.relu(self.conv1(x)))\n",
    "        x = self.pool(F.relu(self.conv2(x)))\n",
    "        x = self.pool(F.relu(self.conv3(x)))\n",
    "        x = self.flatten(x)\n",
    "        x = F.relu(self.fc1(x))\n",
    "        x = F.relu(self.fc2(x))\n",
    "        x = F.relu(self.fc3(x))\n",
    "        x = self.fc4(x) #output layer\n",
    "        \n",
    "        return x"
   ]
  },
  {
   "cell_type": "markdown",
   "metadata": {},
   "source": [
    "## Step3_Model ingredients"
   ]
  },
  {
   "cell_type": "code",
   "execution_count": 7,
   "metadata": {},
   "outputs": [],
   "source": [
    "net = Net()\n",
    "import torch.optim as optim\n",
    "\n",
    "criterion = nn.CrossEntropyLoss()\n",
    "optimizer = optim.SGD(net.parameters(), lr=0.01, momentum=0.9)\n",
    "writer.add_graph(net, images)"
   ]
  },
  {
   "cell_type": "markdown",
   "metadata": {},
   "source": [
    "## Step5_Model Training - forward, backward, weight updates"
   ]
  },
  {
   "cell_type": "code",
   "execution_count": 10,
   "metadata": {},
   "outputs": [],
   "source": [
    "def train(model, train_loader, val_loader=None,  epochs = 15, save = False):\n",
    "    for epoch in range(epochs): \n",
    "        net.train()\n",
    "        running_loss = 0.0\n",
    "        for i, data in enumerate(train_loader, 0):\n",
    "            inputs, labels = data\n",
    "            optimizer.zero_grad()\n",
    "            outputs = model(inputs)\n",
    "            loss = criterion(outputs, labels)\n",
    "            loss.backward()\n",
    "            optimizer.step()\n",
    "\n",
    "            # print statistics\n",
    "            running_loss += loss.item()\n",
    "            \n",
    "            if i % 100 == 9:    # print every 100 mini-batches\n",
    "                    print('[Epoch: %d, Batch: %4d / %4d], loss: %.3f' %\n",
    "                        (epoch + 1, i + 1, len(train_loader), running_loss/100))\n",
    "                    running_loss = 0            \n",
    "\n",
    "        #writer.add_scalar(\"MNIST/train/training_loss\", running_loss, epoch+1)                \n",
    "\n",
    "\n",
    "        net.eval()\n",
    "        correct = total = 0\n",
    "\n",
    "        # validation\n",
    "        if val_loader:\n",
    "            with torch.no_grad():\n",
    "                for data in testloader:\n",
    "                    inputs, labels = data\n",
    "                    outputs = net(inputs)\n",
    "                    _, predicted = torch.max(outputs.data, 1)\n",
    "                    total += labels.size(0)\n",
    "                    correct += (predicted == labels).sum().item()\n",
    "            val_acc = 100. * correct / total\n",
    "            print('Valid accuracy: %d %%' % val_acc)\n",
    "            writer.add_scalar(\"MNIST/test/validation_acc\", val_acc, epoch+1)\n",
    "\n",
    "        # save the model\n",
    "        if save:\n",
    "            torch.save(net.state_dict(), \"save_\"+str(epoch)+\".pth\")"
   ]
  },
  {
   "cell_type": "code",
   "execution_count": 11,
   "metadata": {
    "scrolled": true
   },
   "outputs": [
    {
     "name": "stdout",
     "output_type": "stream",
     "text": [
      "[Epoch: 1, Batch:   10 /  938], loss: 0.015\n",
      "[Epoch: 1, Batch:  110 /  938], loss: 0.149\n",
      "[Epoch: 1, Batch:  210 /  938], loss: 0.160\n",
      "[Epoch: 1, Batch:  310 /  938], loss: 0.150\n",
      "[Epoch: 1, Batch:  410 /  938], loss: 0.133\n",
      "[Epoch: 1, Batch:  510 /  938], loss: 0.158\n",
      "[Epoch: 1, Batch:  610 /  938], loss: 0.128\n",
      "[Epoch: 1, Batch:  710 /  938], loss: 0.134\n",
      "[Epoch: 1, Batch:  810 /  938], loss: 0.119\n",
      "[Epoch: 1, Batch:  910 /  938], loss: 0.118\n",
      "Valid accuracy: 96 %\n",
      "[Epoch: 2, Batch:   10 /  938], loss: 0.009\n",
      "[Epoch: 2, Batch:  110 /  938], loss: 0.107\n",
      "[Epoch: 2, Batch:  210 /  938], loss: 0.118\n",
      "[Epoch: 2, Batch:  310 /  938], loss: 0.105\n",
      "[Epoch: 2, Batch:  410 /  938], loss: 0.122\n",
      "[Epoch: 2, Batch:  510 /  938], loss: 0.108\n",
      "[Epoch: 2, Batch:  610 /  938], loss: 0.110\n",
      "[Epoch: 2, Batch:  710 /  938], loss: 0.101\n",
      "[Epoch: 2, Batch:  810 /  938], loss: 0.107\n",
      "[Epoch: 2, Batch:  910 /  938], loss: 0.101\n",
      "Valid accuracy: 97 %\n",
      "[Epoch: 3, Batch:   10 /  938], loss: 0.010\n",
      "[Epoch: 3, Batch:  110 /  938], loss: 0.085\n",
      "[Epoch: 3, Batch:  210 /  938], loss: 0.093\n",
      "[Epoch: 3, Batch:  310 /  938], loss: 0.102\n",
      "[Epoch: 3, Batch:  410 /  938], loss: 0.093\n",
      "[Epoch: 3, Batch:  510 /  938], loss: 0.089\n",
      "[Epoch: 3, Batch:  610 /  938], loss: 0.088\n"
     ]
    },
    {
     "ename": "KeyboardInterrupt",
     "evalue": "",
     "output_type": "error",
     "traceback": [
      "\u001b[1;31m---------------------------------------------------------------------------\u001b[0m",
      "\u001b[1;31mKeyboardInterrupt\u001b[0m                         Traceback (most recent call last)",
      "\u001b[1;32m~\\AppData\\Local\\Temp/ipykernel_11584/2173706951.py\u001b[0m in \u001b[0;36m<cell line: 1>\u001b[1;34m()\u001b[0m\n\u001b[1;32m----> 1\u001b[1;33m \u001b[0mtrain\u001b[0m\u001b[1;33m(\u001b[0m\u001b[0mnet\u001b[0m\u001b[1;33m,\u001b[0m \u001b[0mtrainloader\u001b[0m\u001b[1;33m,\u001b[0m \u001b[0mtestloader\u001b[0m\u001b[1;33m,\u001b[0m  \u001b[0msave\u001b[0m\u001b[1;33m=\u001b[0m\u001b[1;32mFalse\u001b[0m\u001b[1;33m)\u001b[0m\u001b[1;33m\u001b[0m\u001b[1;33m\u001b[0m\u001b[0m\n\u001b[0m",
      "\u001b[1;32m~\\AppData\\Local\\Temp/ipykernel_11584/2696597650.py\u001b[0m in \u001b[0;36mtrain\u001b[1;34m(model, train_loader, val_loader, epochs, save)\u001b[0m\n\u001b[0;32m      8\u001b[0m             \u001b[0moutputs\u001b[0m \u001b[1;33m=\u001b[0m \u001b[0mmodel\u001b[0m\u001b[1;33m(\u001b[0m\u001b[0minputs\u001b[0m\u001b[1;33m)\u001b[0m\u001b[1;33m\u001b[0m\u001b[1;33m\u001b[0m\u001b[0m\n\u001b[0;32m      9\u001b[0m             \u001b[0mloss\u001b[0m \u001b[1;33m=\u001b[0m \u001b[0mcriterion\u001b[0m\u001b[1;33m(\u001b[0m\u001b[0moutputs\u001b[0m\u001b[1;33m,\u001b[0m \u001b[0mlabels\u001b[0m\u001b[1;33m)\u001b[0m\u001b[1;33m\u001b[0m\u001b[1;33m\u001b[0m\u001b[0m\n\u001b[1;32m---> 10\u001b[1;33m             \u001b[0mloss\u001b[0m\u001b[1;33m.\u001b[0m\u001b[0mbackward\u001b[0m\u001b[1;33m(\u001b[0m\u001b[1;33m)\u001b[0m\u001b[1;33m\u001b[0m\u001b[1;33m\u001b[0m\u001b[0m\n\u001b[0m\u001b[0;32m     11\u001b[0m             \u001b[0moptimizer\u001b[0m\u001b[1;33m.\u001b[0m\u001b[0mstep\u001b[0m\u001b[1;33m(\u001b[0m\u001b[1;33m)\u001b[0m\u001b[1;33m\u001b[0m\u001b[1;33m\u001b[0m\u001b[0m\n\u001b[0;32m     12\u001b[0m \u001b[1;33m\u001b[0m\u001b[0m\n",
      "\u001b[1;32mc:\\Users\\asvp0\\Anaconda3\\envs\\dl21\\lib\\site-packages\\torch\\_tensor.py\u001b[0m in \u001b[0;36mbackward\u001b[1;34m(self, gradient, retain_graph, create_graph, inputs)\u001b[0m\n\u001b[0;32m    361\u001b[0m                 \u001b[0mcreate_graph\u001b[0m\u001b[1;33m=\u001b[0m\u001b[0mcreate_graph\u001b[0m\u001b[1;33m,\u001b[0m\u001b[1;33m\u001b[0m\u001b[1;33m\u001b[0m\u001b[0m\n\u001b[0;32m    362\u001b[0m                 inputs=inputs)\n\u001b[1;32m--> 363\u001b[1;33m         \u001b[0mtorch\u001b[0m\u001b[1;33m.\u001b[0m\u001b[0mautograd\u001b[0m\u001b[1;33m.\u001b[0m\u001b[0mbackward\u001b[0m\u001b[1;33m(\u001b[0m\u001b[0mself\u001b[0m\u001b[1;33m,\u001b[0m \u001b[0mgradient\u001b[0m\u001b[1;33m,\u001b[0m \u001b[0mretain_graph\u001b[0m\u001b[1;33m,\u001b[0m \u001b[0mcreate_graph\u001b[0m\u001b[1;33m,\u001b[0m \u001b[0minputs\u001b[0m\u001b[1;33m=\u001b[0m\u001b[0minputs\u001b[0m\u001b[1;33m)\u001b[0m\u001b[1;33m\u001b[0m\u001b[1;33m\u001b[0m\u001b[0m\n\u001b[0m\u001b[0;32m    364\u001b[0m \u001b[1;33m\u001b[0m\u001b[0m\n\u001b[0;32m    365\u001b[0m     \u001b[1;32mdef\u001b[0m \u001b[0mregister_hook\u001b[0m\u001b[1;33m(\u001b[0m\u001b[0mself\u001b[0m\u001b[1;33m,\u001b[0m \u001b[0mhook\u001b[0m\u001b[1;33m)\u001b[0m\u001b[1;33m:\u001b[0m\u001b[1;33m\u001b[0m\u001b[1;33m\u001b[0m\u001b[0m\n",
      "\u001b[1;32mc:\\Users\\asvp0\\Anaconda3\\envs\\dl21\\lib\\site-packages\\torch\\autograd\\__init__.py\u001b[0m in \u001b[0;36mbackward\u001b[1;34m(tensors, grad_tensors, retain_graph, create_graph, grad_variables, inputs)\u001b[0m\n\u001b[0;32m    171\u001b[0m     \u001b[1;31m# some Python versions print out the first line of a multi-line function\u001b[0m\u001b[1;33m\u001b[0m\u001b[1;33m\u001b[0m\u001b[1;33m\u001b[0m\u001b[0m\n\u001b[0;32m    172\u001b[0m     \u001b[1;31m# calls in the traceback and some print out the last line\u001b[0m\u001b[1;33m\u001b[0m\u001b[1;33m\u001b[0m\u001b[1;33m\u001b[0m\u001b[0m\n\u001b[1;32m--> 173\u001b[1;33m     Variable._execution_engine.run_backward(  # Calls into the C++ engine to run the backward pass\n\u001b[0m\u001b[0;32m    174\u001b[0m         \u001b[0mtensors\u001b[0m\u001b[1;33m,\u001b[0m \u001b[0mgrad_tensors_\u001b[0m\u001b[1;33m,\u001b[0m \u001b[0mretain_graph\u001b[0m\u001b[1;33m,\u001b[0m \u001b[0mcreate_graph\u001b[0m\u001b[1;33m,\u001b[0m \u001b[0minputs\u001b[0m\u001b[1;33m,\u001b[0m\u001b[1;33m\u001b[0m\u001b[1;33m\u001b[0m\u001b[0m\n\u001b[0;32m    175\u001b[0m         allow_unreachable=True, accumulate_grad=True)  # Calls into the C++ engine to run the backward pass\n",
      "\u001b[1;31mKeyboardInterrupt\u001b[0m: "
     ]
    }
   ],
   "source": [
    "train(net, trainloader, testloader,  save=False)"
   ]
  },
  {
   "cell_type": "code",
   "execution_count": null,
   "metadata": {
    "scrolled": true
   },
   "outputs": [
    {
     "name": "stdout",
     "output_type": "stream",
     "text": [
      "Batch [   1 /  157]\n",
      "Batch [   2 /  157]\n",
      "Batch [   3 /  157]\n",
      "Batch [   4 /  157]\n",
      "Batch [   5 /  157]\n",
      "Batch [   6 /  157]\n",
      "Batch [   7 /  157]\n",
      "Batch [   8 /  157]\n",
      "Batch [   9 /  157]\n",
      "Batch [  10 /  157]\n",
      "Batch [  11 /  157]\n",
      "Batch [  12 /  157]\n",
      "Batch [  13 /  157]\n",
      "Batch [  14 /  157]\n",
      "Batch [  15 /  157]\n",
      "Batch [  16 /  157]\n",
      "Batch [  17 /  157]\n",
      "Batch [  18 /  157]\n",
      "Batch [  19 /  157]\n",
      "Batch [  20 /  157]\n",
      "Batch [  21 /  157]\n",
      "Batch [  22 /  157]\n",
      "Batch [  23 /  157]\n",
      "Batch [  24 /  157]\n",
      "Batch [  25 /  157]\n",
      "Batch [  26 /  157]\n",
      "Batch [  27 /  157]\n",
      "Batch [  28 /  157]\n",
      "Batch [  29 /  157]\n",
      "Batch [  30 /  157]\n",
      "Batch [  31 /  157]\n",
      "Batch [  32 /  157]\n",
      "Batch [  33 /  157]\n",
      "Batch [  34 /  157]\n",
      "Batch [  35 /  157]\n",
      "Batch [  36 /  157]\n",
      "Batch [  37 /  157]\n",
      "Batch [  38 /  157]\n",
      "Batch [  39 /  157]\n",
      "Batch [  40 /  157]\n",
      "Batch [  41 /  157]\n",
      "Batch [  42 /  157]\n",
      "Batch [  43 /  157]\n",
      "Batch [  44 /  157]\n",
      "Batch [  45 /  157]\n",
      "Batch [  46 /  157]\n",
      "Batch [  47 /  157]\n",
      "Batch [  48 /  157]\n",
      "Batch [  49 /  157]\n",
      "Batch [  50 /  157]\n",
      "Batch [  51 /  157]\n",
      "Batch [  52 /  157]\n",
      "Batch [  53 /  157]\n",
      "Batch [  54 /  157]\n",
      "Batch [  55 /  157]\n",
      "Batch [  56 /  157]\n",
      "Batch [  57 /  157]\n",
      "Batch [  58 /  157]\n",
      "Batch [  59 /  157]\n",
      "Batch [  60 /  157]\n",
      "Batch [  61 /  157]\n",
      "Batch [  62 /  157]\n",
      "Batch [  63 /  157]\n",
      "Batch [  64 /  157]\n",
      "Batch [  65 /  157]\n",
      "Batch [  66 /  157]\n",
      "Batch [  67 /  157]\n",
      "Batch [  68 /  157]\n",
      "Batch [  69 /  157]\n",
      "Batch [  70 /  157]\n",
      "Batch [  71 /  157]\n",
      "Batch [  72 /  157]\n",
      "Batch [  73 /  157]\n",
      "Batch [  74 /  157]\n",
      "Batch [  75 /  157]\n",
      "Batch [  76 /  157]\n",
      "Batch [  77 /  157]\n",
      "Batch [  78 /  157]\n",
      "Batch [  79 /  157]\n",
      "Batch [  80 /  157]\n",
      "Batch [  81 /  157]\n",
      "Batch [  82 /  157]\n",
      "Batch [  83 /  157]\n",
      "Batch [  84 /  157]\n",
      "Batch [  85 /  157]\n",
      "Batch [  86 /  157]\n",
      "Batch [  87 /  157]\n",
      "Batch [  88 /  157]\n",
      "Batch [  89 /  157]\n",
      "Batch [  90 /  157]\n",
      "Batch [  91 /  157]\n",
      "Batch [  92 /  157]\n",
      "Batch [  93 /  157]\n",
      "Batch [  94 /  157]\n",
      "Batch [  95 /  157]\n",
      "Batch [  96 /  157]\n",
      "Batch [  97 /  157]\n",
      "Batch [  98 /  157]\n",
      "Batch [  99 /  157]\n",
      "Batch [ 100 /  157]\n",
      "Batch [ 101 /  157]\n",
      "Batch [ 102 /  157]\n",
      "Batch [ 103 /  157]\n",
      "Batch [ 104 /  157]\n",
      "Batch [ 105 /  157]\n",
      "Batch [ 106 /  157]\n",
      "Batch [ 107 /  157]\n",
      "Batch [ 108 /  157]\n",
      "Batch [ 109 /  157]\n",
      "Batch [ 110 /  157]\n",
      "Batch [ 111 /  157]\n",
      "Batch [ 112 /  157]\n",
      "Batch [ 113 /  157]\n",
      "Batch [ 114 /  157]\n",
      "Batch [ 115 /  157]\n",
      "Batch [ 116 /  157]\n",
      "Batch [ 117 /  157]\n",
      "Batch [ 118 /  157]\n",
      "Batch [ 119 /  157]\n",
      "Batch [ 120 /  157]\n",
      "Batch [ 121 /  157]\n",
      "Batch [ 122 /  157]\n",
      "Batch [ 123 /  157]\n",
      "Batch [ 124 /  157]\n",
      "Batch [ 125 /  157]\n",
      "Batch [ 126 /  157]\n",
      "Batch [ 127 /  157]\n",
      "Batch [ 128 /  157]\n",
      "Batch [ 129 /  157]\n",
      "Batch [ 130 /  157]\n",
      "Batch [ 131 /  157]\n",
      "Batch [ 132 /  157]\n",
      "Batch [ 133 /  157]\n",
      "Batch [ 134 /  157]\n",
      "Batch [ 135 /  157]\n",
      "Batch [ 136 /  157]\n",
      "Batch [ 137 /  157]\n",
      "Batch [ 138 /  157]\n",
      "Batch [ 139 /  157]\n",
      "Batch [ 140 /  157]\n",
      "Batch [ 141 /  157]\n",
      "Batch [ 142 /  157]\n",
      "Batch [ 143 /  157]\n",
      "Batch [ 144 /  157]\n",
      "Batch [ 145 /  157]\n",
      "Batch [ 146 /  157]\n",
      "Batch [ 147 /  157]\n",
      "Batch [ 148 /  157]\n",
      "Batch [ 149 /  157]\n",
      "Batch [ 150 /  157]\n",
      "Batch [ 151 /  157]\n",
      "Batch [ 152 /  157]\n",
      "Batch [ 153 /  157]\n",
      "Batch [ 154 /  157]\n",
      "Batch [ 155 /  157]\n",
      "Batch [ 156 /  157]\n",
      "Batch [ 157 /  157]\n"
     ]
    }
   ],
   "source": [
    "all_preds = []\n",
    "all_labels = []\n",
    "net.eval()\n",
    "\n",
    "with torch.no_grad():\n",
    "    for i, data in enumerate(testloader):\n",
    "        print('Batch [%4d / %4d]' % (i+1, len(testloader)))\n",
    "        inputs, labels = data\n",
    "        outputs = net(inputs)\n",
    "        _, preds = torch.max(outputs.data, 1)\n",
    "        all_preds += list(preds.cpu().numpy())\n",
    "        all_labels += list(labels.cpu().numpy())"
   ]
  },
  {
   "cell_type": "code",
   "execution_count": null,
   "metadata": {},
   "outputs": [
    {
     "data": {
      "text/plain": [
       "array([[756,   9,  39,  48,  53,   7,  12,  24,  31,  21],\n",
       "       [ 26, 803,   5,  17,  12,   7,  13,   6,  18,  93],\n",
       "       [ 82,   3, 415, 131, 183,  68,  53,  43,  10,  12],\n",
       "       [ 16,   7,  26, 613,  94, 108,  48,  55,   7,  26],\n",
       "       [ 20,   4,  22,  79, 719,  37,  40,  71,   7,   1],\n",
       "       [ 13,   1,  12, 251,  52, 561,  24,  73,   4,   9],\n",
       "       [  9,  11,  12, 116,  54,  32, 735,  15,   7,   9],\n",
       "       [ 14,   3,   7,  70,  59,  46,   1, 784,   0,  16],\n",
       "       [121,  24,  10,  42,  28,   9,   6,   7, 701,  52],\n",
       "       [ 39,  50,   9,  52,  11,   6,   6,  25,  22, 780]], dtype=int64)"
      ]
     },
     "execution_count": 38,
     "metadata": {},
     "output_type": "execute_result"
    }
   ],
   "source": [
    "from sklearn.metrics import confusion_matrix\n",
    "cm = confusion_matrix(all_labels, all_preds);\n",
    "cm"
   ]
  },
  {
   "cell_type": "code",
   "execution_count": null,
   "metadata": {},
   "outputs": [],
   "source": [
    "import itertools\n",
    "import matplotlib.pyplot as plt\n",
    "\n",
    "# function from https://deeplizard.com/learn/video/0LhiS6yu2qQ\n",
    "def plot_confusion_matrix(cm, classes, normalize=False, title='Confusion matrix', cmap=plt.cm.Blues):\n",
    "    if normalize:\n",
    "        cm = cm.astype('float') / cm.sum(axis=1)[:, np.newaxis]\n",
    "        print(\"Normalized confusion matrix\")\n",
    "    else:\n",
    "        print('Confusion matrix, without normalization')\n",
    "\n",
    "    plt.imshow(cm, interpolation='nearest', cmap=cmap)\n",
    "    plt.title(title)\n",
    "    plt.colorbar()\n",
    "    tick_marks = np.arange(len(classes))\n",
    "    plt.xticks(tick_marks, classes, rotation=45)\n",
    "    plt.yticks(tick_marks, classes)\n",
    "\n",
    "    fmt = '.2f' if normalize else 'd'\n",
    "    thresh = cm.max() / 2.\n",
    "    for i, j in itertools.product(range(cm.shape[0]), range(cm.shape[1])):\n",
    "        plt.text(j, i, format(cm[i, j], fmt), horizontalalignment=\"center\", color=\"white\" if cm[i, j] > thresh else \"black\")\n",
    "\n",
    "    plt.tight_layout()\n",
    "    plt.ylabel('True label')\n",
    "    plt.xlabel('Predicted label')"
   ]
  },
  {
   "cell_type": "code",
   "execution_count": null,
   "metadata": {},
   "outputs": [],
   "source": [
    "classes = [0, 1, 2, 3, 4, 5, 6, 7, 8, 9]"
   ]
  },
  {
   "cell_type": "code",
   "execution_count": null,
   "metadata": {},
   "outputs": [
    {
     "name": "stdout",
     "output_type": "stream",
     "text": [
      "Normalized confusion matrix\n"
     ]
    },
    {
     "data": {
      "image/png": "[encoded data removed]",
      "text/plain": [
       "<Figure size 576x576 with 2 Axes>"
      ]
     },
     "metadata": {
      "needs_background": "light"
     },
     "output_type": "display_data"
    }
   ],
   "source": [
    "plt.figure(figsize=(8,8))\n",
    "plot_confusion_matrix(cm, list(classes), normalize=True)"
   ]
  },
  {
   "cell_type": "code",
   "execution_count": null,
   "metadata": {},
   "outputs": [],
   "source": []
  }
 ],
 "metadata": {
  "kernelspec": {
   "display_name": "Python 3 (ipykernel)",
   "language": "python",
   "name": "python3"
  },
  "language_info": {
   "codemirror_mode": {
    "name": "ipython",
    "version": 3
   },
   "file_extension": ".py",
   "mimetype": "text/x-python",
   "name": "python",
   "nbconvert_exporter": "python",
   "pygments_lexer": "ipython3",
   "version": "3.8.5"
  },
  "vscode": {
   "interpreter": {
    "hash": "b490b4668c1385ae0f294398b813d386e2e6c0063a8183501c9ea87a2bc12519"
   }
  }
 },
 "nbformat": 4,
 "nbformat_minor": 4
}
