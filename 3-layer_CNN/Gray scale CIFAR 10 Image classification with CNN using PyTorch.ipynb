{
 "cells": [
  {
   "cell_type": "markdown",
   "metadata": {},
   "source": [
    "## Image classification with CNN"
   ]
  },
  {
   "cell_type": "code",
   "execution_count": 23,
   "metadata": {},
   "outputs": [],
   "source": [
    "import torch\n",
    "import torchvision.datasets as datasets\n",
    "from torch.utils.data import DataLoader\n",
    "import torchvision.transforms as transforms\n",
    "import torch.nn as nn\n",
    "import torch.nn.functional as F\n",
    "import torchvision\n",
    "import matplotlib.pyplot as plt\n",
    "import numpy as np\n",
    "import sys\n",
    "from torch.utils.tensorboard import SummaryWriter\n",
    "writer = SummaryWriter(\"logs/CNN/GrayCIFAR\")\n",
    "# import albumentations as A\n",
    "#from autoaugment import CIFAR10Policy"
   ]
  },
  {
   "cell_type": "code",
   "execution_count": 24,
   "metadata": {},
   "outputs": [],
   "source": [
    "# layout = {\n",
    "#     \"ABCDE\": {\n",
    "#         \"loss\": [\"Multiline\", [\"loss/train\", \"loss/validation\"]],\n",
    "#         \"accuracy\": [\"Multiline\", [\"accuracy/train\", \"accuracy/validation\"]],\n",
    "#     },\n",
    "# }\n",
    "\n",
    "# \n",
    "# writer.add_custom_scalars(layout)"
   ]
  },
  {
   "cell_type": "markdown",
   "metadata": {},
   "source": [
    "Device Configuration"
   ]
  },
  {
   "cell_type": "code",
   "execution_count": 25,
   "metadata": {},
   "outputs": [
    {
     "name": "stdout",
     "output_type": "stream",
     "text": [
      "cuda\n",
      "NVIDIA GeForce GTX 1660 Ti\n",
      "Memory Usage:\n",
      "Allocated: 0.0 GB\n",
      "Cached:    0.0 GB\n"
     ]
    }
   ],
   "source": [
    "# CUDA for PyTorch\n",
    "device = 'cuda' if torch.cuda.is_available() else 'cpu'\n",
    "print(device)\n",
    "if device == 'cuda':\n",
    "    print(torch.cuda.get_device_name(0))\n",
    "    print('Memory Usage:')\n",
    "    print('Allocated:', round(torch.cuda.memory_allocated(0)/1024**3,1), 'GB')\n",
    "    print('Cached:   ', round(torch.cuda.memory_reserved(0)/1024**3,1), 'GB')"
   ]
  },
  {
   "cell_type": "code",
   "execution_count": 26,
   "metadata": {},
   "outputs": [],
   "source": [
    "# Hyper-parameters \n",
    "num_epochs = 5\n",
    "batch_size = 64\n",
    "learning_rate = 0.01"
   ]
  },
  {
   "cell_type": "markdown",
   "metadata": {},
   "source": [
    "## Step1_Data for our image classification 🔄"
   ]
  },
  {
   "cell_type": "code",
   "execution_count": 27,
   "metadata": {},
   "outputs": [],
   "source": [
    "class RandomNoise(object):\n",
    "    def __call__(self, pointcloud):\n",
    "        assert len(pointcloud.shape)==2\n",
    "\n",
    "        noise = np.random.normal(0, 0.002, (pointcloud.shape))\n",
    "    \n",
    "        noisy_pointcloud = pointcloud + noise\n",
    "        return  noisy_pointcloud"
   ]
  },
  {
   "cell_type": "code",
   "execution_count": 28,
   "metadata": {},
   "outputs": [
    {
     "name": "stdout",
     "output_type": "stream",
     "text": [
      "Files already downloaded and verified\n",
      "Files already downloaded and verified\n"
     ]
    }
   ],
   "source": [
    "transform = transforms.Compose(\n",
    "    [\n",
    "    transforms.Grayscale(), transforms.RandomHorizontalFlip(),transforms.ToTensor()\n",
    "     ])\n",
    "\n",
    "trainset = torchvision.datasets.CIFAR10(root='.././data', train=True,\n",
    "                                        download=True, transform=transform)\n",
    "trainloader = torch.utils.data.DataLoader(trainset, batch_size=batch_size,\n",
    "                                          shuffle=True, num_workers=2)\n",
    "\n",
    "testset = torchvision.datasets.CIFAR10(root='.././data', train=False,\n",
    "                                       download=True, transform=transform)\n",
    "testloader = torch.utils.data.DataLoader(testset, batch_size=batch_size,\n",
    "                                         shuffle=False, num_workers=2)\n",
    "\n",
    "classes = ('plane', 'car', 'bird', 'cat',\n",
    "           'deer', 'dog', 'frog', 'horse', 'ship', 'truck')"
   ]
  },
  {
   "cell_type": "code",
   "execution_count": 29,
   "metadata": {},
   "outputs": [
    {
     "name": "stdout",
     "output_type": "stream",
     "text": [
      "torch.Size([64, 1, 32, 32])\n"
     ]
    }
   ],
   "source": [
    "## just for visualisation\n",
    "import matplotlib.pyplot as plt\n",
    "import numpy as np\n",
    "\n",
    "# functions to show an image\n",
    "def imshow(img):\n",
    "    print(img.shape)\n",
    "    img = img    # unnormalize\n",
    "    npimg = img.numpy()\n",
    "    #print(npimg.shape)\n",
    "    plt.imshow(np.transpose(npimg, (1, 2, 0)))\n",
    "    plt.show()\n",
    "\n",
    "# get some random training images\n",
    "dataiter = iter(trainloader)\n",
    "images, labels = dataiter.next()\n",
    "print(images.shape)\n",
    "\n",
    "img_grid = torchvision.utils.make_grid(images)\n",
    "\n",
    "# show images\n",
    "#imshow(torchvision.utils.make_grid(images))\n",
    "# print labels\n",
    "#print(' '.join(f'{classes[labels[j]]:5s}' for j in range(batch_size)))"
   ]
  },
  {
   "cell_type": "markdown",
   "metadata": {},
   "source": [
    "## Step2_Network architecture 🤖"
   ]
  },
  {
   "cell_type": "code",
   "execution_count": 30,
   "metadata": {},
   "outputs": [],
   "source": [
    "import torch.nn as nn\n",
    "import torch.nn.functional as F\n",
    "\n",
    "\n",
    "class Net(nn.Module):\n",
    "    def __init__(self):\n",
    "        super(Net, self).__init__()\n",
    "        self.conv1 = nn.Conv2d(1, 32, 3)\n",
    "        self.conv2 = nn.Conv2d(32, 64, 3)\n",
    "        self.conv3 = nn.Conv2d(64, 128, 3)\n",
    "        self.pool = nn.MaxPool2d(2, 2)\n",
    "        self.fc1 = nn.Linear(128 * 2 * 2, 128)\n",
    "        self.fc2 = nn.Linear(128, 64)\n",
    "        self.fc3 = nn.Linear(64, 32)\n",
    "        self.fc4 = nn.Linear(32, 10)\n",
    "        self.dropout1 = nn.Dropout(p=0.2, inplace=False)\n",
    "    def forward(self, x):\n",
    "        x = self.pool(F.relu(self.conv1(x)))\n",
    "        #x = self.dropout1(x)\n",
    "        x = self.pool(F.relu(self.conv2(x)))\n",
    "        #x = self.dropout1(x)\n",
    "        x = self.pool(F.relu(self.conv3(x)))\n",
    "        #x = self.dropout1(x)\n",
    "        x = x.view(-1, 128 * 2 * 2)\n",
    "        x = F.relu(self.fc1(x))\n",
    "        x = F.relu(self.fc2(x))\n",
    "        x = F.relu(self.fc3(x))\n",
    "        x = self.fc4(x) #output layer\n",
    "        \n",
    "        return x"
   ]
  },
  {
   "cell_type": "markdown",
   "metadata": {},
   "source": [
    "## Step3_Model ingredients"
   ]
  },
  {
   "cell_type": "code",
   "execution_count": 31,
   "metadata": {},
   "outputs": [],
   "source": [
    "net = Net()\n",
    "import torch.optim as optim\n",
    "\n",
    "criterion = nn.CrossEntropyLoss()\n",
    "optimizer = optim.SGD(net.parameters(), lr=0.01, momentum=0.9)\n",
    "writer.add_graph(net, images)"
   ]
  },
  {
   "cell_type": "markdown",
   "metadata": {},
   "source": [
    "## Step5_Model Training - forward, backward, weight updates"
   ]
  },
  {
   "cell_type": "code",
   "execution_count": 32,
   "metadata": {},
   "outputs": [],
   "source": [
    "def train(model, train_loader, val_loader=None,  epochs = 15, save = False):\n",
    "    for epoch in range(epochs): \n",
    "        net.train()\n",
    "        running_loss = 0.0\n",
    "        for i, data in enumerate(train_loader, 0):\n",
    "            inputs, labels = data\n",
    "            optimizer.zero_grad()\n",
    "            outputs = net(inputs)\n",
    "            loss = criterion(outputs, labels)\n",
    "            loss.backward()\n",
    "            optimizer.step()\n",
    "\n",
    "            # print statistics\n",
    "            running_loss += loss.item()\n",
    "              \n",
    "            if i % 100 == 9:    # print every 100 mini-batches\n",
    "                print('[Epoch: %d, Batch: %4d / %4d], loss: %.3f' %\n",
    "                    (epoch + 1, i + 1, len(train_loader), running_loss / 10))\n",
    "                #running_loss = 0.0\n",
    "        writer.add_scalar(\"train/training_loss\", running_loss, epoch+1)  \n",
    "\n",
    "        net.eval()\n",
    "        correct = total = 0\n",
    "\n",
    "        # validation\n",
    "        if val_loader:\n",
    "            with torch.no_grad():\n",
    "                for data in testloader:\n",
    "                    inputs, labels = data\n",
    "                    outputs = net(inputs)\n",
    "                    _, predicted = torch.max(outputs.data, 1)\n",
    "                    total += labels.size(0)\n",
    "                    correct += (predicted == labels).sum().item()\n",
    "            val_acc = 100. * correct / total\n",
    "            print('Valid accuracy: %d %%' % val_acc)\n",
    "            writer.add_scalar(\"test/validation_acc\", val_acc, epoch+1)\n",
    "\n",
    "        # save the model\n",
    "        if save:\n",
    "            torch.save(net.state_dict(), \"save_\"+str(epoch)+\".pth\")         \n",
    "    writer.close()        "
   ]
  },
  {
   "cell_type": "code",
   "execution_count": 33,
   "metadata": {
    "scrolled": true
   },
   "outputs": [
    {
     "name": "stdout",
     "output_type": "stream",
     "text": [
      "[Epoch: 1, Batch:   10 /  782], loss: 2.304\n",
      "[Epoch: 1, Batch:  110 /  782], loss: 25.342\n",
      "[Epoch: 1, Batch:  210 /  782], loss: 48.370\n",
      "[Epoch: 1, Batch:  310 /  782], loss: 71.403\n",
      "[Epoch: 1, Batch:  410 /  782], loss: 94.427\n",
      "[Epoch: 1, Batch:  510 /  782], loss: 117.454\n",
      "[Epoch: 1, Batch:  610 /  782], loss: 140.475\n",
      "[Epoch: 1, Batch:  710 /  782], loss: 163.489\n",
      "Valid accuracy: 9 %\n",
      "[Epoch: 2, Batch:   10 /  782], loss: 2.300\n",
      "[Epoch: 2, Batch:  110 /  782], loss: 25.283\n",
      "[Epoch: 2, Batch:  210 /  782], loss: 48.234\n",
      "[Epoch: 2, Batch:  310 /  782], loss: 71.059\n",
      "[Epoch: 2, Batch:  410 /  782], loss: 93.609\n",
      "[Epoch: 2, Batch:  510 /  782], loss: 115.651\n",
      "[Epoch: 2, Batch:  610 /  782], loss: 137.423\n",
      "[Epoch: 2, Batch:  710 /  782], loss: 158.902\n",
      "Valid accuracy: 23 %\n",
      "[Epoch: 3, Batch:   10 /  782], loss: 2.061\n",
      "[Epoch: 3, Batch:  110 /  782], loss: 22.507\n",
      "[Epoch: 3, Batch:  210 /  782], loss: 42.283\n",
      "[Epoch: 3, Batch:  310 /  782], loss: 61.531\n",
      "[Epoch: 3, Batch:  410 /  782], loss: 80.338\n",
      "[Epoch: 3, Batch:  510 /  782], loss: 98.499\n",
      "[Epoch: 3, Batch:  610 /  782], loss: 116.432\n",
      "[Epoch: 3, Batch:  710 /  782], loss: 133.804\n",
      "Valid accuracy: 37 %\n",
      "[Epoch: 4, Batch:   10 /  782], loss: 1.674\n",
      "[Epoch: 4, Batch:  110 /  782], loss: 18.692\n",
      "[Epoch: 4, Batch:  210 /  782], loss: 35.309\n",
      "[Epoch: 4, Batch:  310 /  782], loss: 51.632\n",
      "[Epoch: 4, Batch:  410 /  782], loss: 67.562\n",
      "[Epoch: 4, Batch:  510 /  782], loss: 83.162\n",
      "[Epoch: 4, Batch:  610 /  782], loss: 98.437\n",
      "[Epoch: 4, Batch:  710 /  782], loss: 113.432\n",
      "Valid accuracy: 47 %\n",
      "[Epoch: 5, Batch:   10 /  782], loss: 1.456\n",
      "[Epoch: 5, Batch:  110 /  782], loss: 15.892\n",
      "[Epoch: 5, Batch:  210 /  782], loss: 30.148\n",
      "[Epoch: 5, Batch:  310 /  782], loss: 44.377\n",
      "[Epoch: 5, Batch:  410 /  782], loss: 58.319\n",
      "[Epoch: 5, Batch:  510 /  782], loss: 72.334\n",
      "[Epoch: 5, Batch:  610 /  782], loss: 85.852\n",
      "[Epoch: 5, Batch:  710 /  782], loss: 98.806\n",
      "Valid accuracy: 52 %\n",
      "[Epoch: 6, Batch:   10 /  782], loss: 1.449\n",
      "[Epoch: 6, Batch:  110 /  782], loss: 14.425\n",
      "[Epoch: 6, Batch:  210 /  782], loss: 27.125\n",
      "[Epoch: 6, Batch:  310 /  782], loss: 39.661\n",
      "[Epoch: 6, Batch:  410 /  782], loss: 52.197\n",
      "[Epoch: 6, Batch:  510 /  782], loss: 64.683\n",
      "[Epoch: 6, Batch:  610 /  782], loss: 76.841\n",
      "[Epoch: 6, Batch:  710 /  782], loss: 88.862\n",
      "Valid accuracy: 57 %\n",
      "[Epoch: 7, Batch:   10 /  782], loss: 1.126\n",
      "[Epoch: 7, Batch:  110 /  782], loss: 12.623\n",
      "[Epoch: 7, Batch:  210 /  782], loss: 23.903\n",
      "[Epoch: 7, Batch:  310 /  782], loss: 35.200\n",
      "[Epoch: 7, Batch:  410 /  782], loss: 46.502\n",
      "[Epoch: 7, Batch:  510 /  782], loss: 57.881\n",
      "[Epoch: 7, Batch:  610 /  782], loss: 69.127\n",
      "[Epoch: 7, Batch:  710 /  782], loss: 80.262\n",
      "Valid accuracy: 58 %\n",
      "[Epoch: 8, Batch:   10 /  782], loss: 1.126\n",
      "[Epoch: 8, Batch:  110 /  782], loss: 11.558\n",
      "[Epoch: 8, Batch:  210 /  782], loss: 22.008\n",
      "[Epoch: 8, Batch:  310 /  782], loss: 32.312\n",
      "[Epoch: 8, Batch:  410 /  782], loss: 42.823\n",
      "[Epoch: 8, Batch:  510 /  782], loss: 53.207\n",
      "[Epoch: 8, Batch:  610 /  782], loss: 63.672\n",
      "[Epoch: 8, Batch:  710 /  782], loss: 74.243\n",
      "Valid accuracy: 63 %\n",
      "[Epoch: 9, Batch:   10 /  782], loss: 1.009\n",
      "[Epoch: 9, Batch:  110 /  782], loss: 10.815\n",
      "[Epoch: 9, Batch:  210 /  782], loss: 20.496\n",
      "[Epoch: 9, Batch:  310 /  782], loss: 30.320\n",
      "[Epoch: 9, Batch:  410 /  782], loss: 40.010\n",
      "[Epoch: 9, Batch:  510 /  782], loss: 49.573\n",
      "[Epoch: 9, Batch:  610 /  782], loss: 59.205\n",
      "[Epoch: 9, Batch:  710 /  782], loss: 68.603\n",
      "Valid accuracy: 64 %\n",
      "[Epoch: 10, Batch:   10 /  782], loss: 0.899\n",
      "[Epoch: 10, Batch:  110 /  782], loss: 9.775\n",
      "[Epoch: 10, Batch:  210 /  782], loss: 18.929\n",
      "[Epoch: 10, Batch:  310 /  782], loss: 28.167\n",
      "[Epoch: 10, Batch:  410 /  782], loss: 37.464\n",
      "[Epoch: 10, Batch:  510 /  782], loss: 46.698\n",
      "[Epoch: 10, Batch:  610 /  782], loss: 55.679\n",
      "[Epoch: 10, Batch:  710 /  782], loss: 64.492\n",
      "Valid accuracy: 65 %\n",
      "[Epoch: 11, Batch:   10 /  782], loss: 0.910\n",
      "[Epoch: 11, Batch:  110 /  782], loss: 9.330\n",
      "[Epoch: 11, Batch:  210 /  782], loss: 17.673\n",
      "[Epoch: 11, Batch:  310 /  782], loss: 26.008\n",
      "[Epoch: 11, Batch:  410 /  782], loss: 34.601\n",
      "[Epoch: 11, Batch:  510 /  782], loss: 43.196\n",
      "[Epoch: 11, Batch:  610 /  782], loss: 51.924\n",
      "[Epoch: 11, Batch:  710 /  782], loss: 60.495\n",
      "Valid accuracy: 67 %\n",
      "[Epoch: 12, Batch:   10 /  782], loss: 0.801\n",
      "[Epoch: 12, Batch:  110 /  782], loss: 8.836\n",
      "[Epoch: 12, Batch:  210 /  782], loss: 16.804\n",
      "[Epoch: 12, Batch:  310 /  782], loss: 24.832\n",
      "[Epoch: 12, Batch:  410 /  782], loss: 32.994\n",
      "[Epoch: 12, Batch:  510 /  782], loss: 41.238\n",
      "[Epoch: 12, Batch:  610 /  782], loss: 49.232\n",
      "[Epoch: 12, Batch:  710 /  782], loss: 57.374\n",
      "Valid accuracy: 66 %\n",
      "[Epoch: 13, Batch:   10 /  782], loss: 0.794\n",
      "[Epoch: 13, Batch:  110 /  782], loss: 8.107\n",
      "[Epoch: 13, Batch:  210 /  782], loss: 15.689\n",
      "[Epoch: 13, Batch:  310 /  782], loss: 23.576\n",
      "[Epoch: 13, Batch:  410 /  782], loss: 31.197\n",
      "[Epoch: 13, Batch:  510 /  782], loss: 39.039\n",
      "[Epoch: 13, Batch:  610 /  782], loss: 46.883\n",
      "[Epoch: 13, Batch:  710 /  782], loss: 54.793\n",
      "Valid accuracy: 68 %\n",
      "[Epoch: 14, Batch:   10 /  782], loss: 0.727\n",
      "[Epoch: 14, Batch:  110 /  782], loss: 7.997\n",
      "[Epoch: 14, Batch:  210 /  782], loss: 15.237\n",
      "[Epoch: 14, Batch:  310 /  782], loss: 22.555\n",
      "[Epoch: 14, Batch:  410 /  782], loss: 29.913\n",
      "[Epoch: 14, Batch:  510 /  782], loss: 37.483\n",
      "[Epoch: 14, Batch:  610 /  782], loss: 44.725\n",
      "[Epoch: 14, Batch:  710 /  782], loss: 51.974\n",
      "Valid accuracy: 70 %\n",
      "[Epoch: 15, Batch:   10 /  782], loss: 0.745\n",
      "[Epoch: 15, Batch:  110 /  782], loss: 7.465\n",
      "[Epoch: 15, Batch:  210 /  782], loss: 14.379\n",
      "[Epoch: 15, Batch:  310 /  782], loss: 21.388\n",
      "[Epoch: 15, Batch:  410 /  782], loss: 28.605\n",
      "[Epoch: 15, Batch:  510 /  782], loss: 35.482\n",
      "[Epoch: 15, Batch:  610 /  782], loss: 42.462\n",
      "[Epoch: 15, Batch:  710 /  782], loss: 49.543\n",
      "Valid accuracy: 69 %\n"
     ]
    }
   ],
   "source": [
    "train(net, trainloader, testloader,  save=False)"
   ]
  },
  {
   "cell_type": "code",
   "execution_count": 34,
   "metadata": {
    "scrolled": true
   },
   "outputs": [
    {
     "name": "stdout",
     "output_type": "stream",
     "text": [
      "Batch [   1 /  157]\n",
      "Batch [   2 /  157]\n",
      "Batch [   3 /  157]\n",
      "Batch [   4 /  157]\n",
      "Batch [   5 /  157]\n",
      "Batch [   6 /  157]\n",
      "Batch [   7 /  157]\n",
      "Batch [   8 /  157]\n",
      "Batch [   9 /  157]\n",
      "Batch [  10 /  157]\n",
      "Batch [  11 /  157]\n",
      "Batch [  12 /  157]\n",
      "Batch [  13 /  157]\n",
      "Batch [  14 /  157]\n",
      "Batch [  15 /  157]\n",
      "Batch [  16 /  157]\n",
      "Batch [  17 /  157]\n",
      "Batch [  18 /  157]\n",
      "Batch [  19 /  157]\n",
      "Batch [  20 /  157]\n",
      "Batch [  21 /  157]\n",
      "Batch [  22 /  157]\n",
      "Batch [  23 /  157]\n",
      "Batch [  24 /  157]\n",
      "Batch [  25 /  157]\n",
      "Batch [  26 /  157]\n",
      "Batch [  27 /  157]\n",
      "Batch [  28 /  157]\n",
      "Batch [  29 /  157]\n",
      "Batch [  30 /  157]\n",
      "Batch [  31 /  157]\n",
      "Batch [  32 /  157]\n",
      "Batch [  33 /  157]\n",
      "Batch [  34 /  157]\n",
      "Batch [  35 /  157]\n",
      "Batch [  36 /  157]\n",
      "Batch [  37 /  157]\n",
      "Batch [  38 /  157]\n",
      "Batch [  39 /  157]\n",
      "Batch [  40 /  157]\n",
      "Batch [  41 /  157]\n",
      "Batch [  42 /  157]\n",
      "Batch [  43 /  157]\n",
      "Batch [  44 /  157]\n",
      "Batch [  45 /  157]\n",
      "Batch [  46 /  157]\n",
      "Batch [  47 /  157]\n",
      "Batch [  48 /  157]\n",
      "Batch [  49 /  157]\n",
      "Batch [  50 /  157]\n",
      "Batch [  51 /  157]\n",
      "Batch [  52 /  157]\n",
      "Batch [  53 /  157]\n",
      "Batch [  54 /  157]\n",
      "Batch [  55 /  157]\n",
      "Batch [  56 /  157]\n",
      "Batch [  57 /  157]\n",
      "Batch [  58 /  157]\n",
      "Batch [  59 /  157]\n",
      "Batch [  60 /  157]\n",
      "Batch [  61 /  157]\n",
      "Batch [  62 /  157]\n",
      "Batch [  63 /  157]\n",
      "Batch [  64 /  157]\n",
      "Batch [  65 /  157]\n",
      "Batch [  66 /  157]\n",
      "Batch [  67 /  157]\n",
      "Batch [  68 /  157]\n",
      "Batch [  69 /  157]\n",
      "Batch [  70 /  157]\n",
      "Batch [  71 /  157]\n",
      "Batch [  72 /  157]\n",
      "Batch [  73 /  157]\n",
      "Batch [  74 /  157]\n",
      "Batch [  75 /  157]\n",
      "Batch [  76 /  157]\n",
      "Batch [  77 /  157]\n",
      "Batch [  78 /  157]\n",
      "Batch [  79 /  157]\n",
      "Batch [  80 /  157]\n",
      "Batch [  81 /  157]\n",
      "Batch [  82 /  157]\n",
      "Batch [  83 /  157]\n",
      "Batch [  84 /  157]\n",
      "Batch [  85 /  157]\n",
      "Batch [  86 /  157]\n",
      "Batch [  87 /  157]\n",
      "Batch [  88 /  157]\n",
      "Batch [  89 /  157]\n",
      "Batch [  90 /  157]\n",
      "Batch [  91 /  157]\n",
      "Batch [  92 /  157]\n",
      "Batch [  93 /  157]\n",
      "Batch [  94 /  157]\n",
      "Batch [  95 /  157]\n",
      "Batch [  96 /  157]\n",
      "Batch [  97 /  157]\n",
      "Batch [  98 /  157]\n",
      "Batch [  99 /  157]\n",
      "Batch [ 100 /  157]\n",
      "Batch [ 101 /  157]\n",
      "Batch [ 102 /  157]\n",
      "Batch [ 103 /  157]\n",
      "Batch [ 104 /  157]\n",
      "Batch [ 105 /  157]\n",
      "Batch [ 106 /  157]\n",
      "Batch [ 107 /  157]\n",
      "Batch [ 108 /  157]\n",
      "Batch [ 109 /  157]\n",
      "Batch [ 110 /  157]\n",
      "Batch [ 111 /  157]\n",
      "Batch [ 112 /  157]\n",
      "Batch [ 113 /  157]\n",
      "Batch [ 114 /  157]\n",
      "Batch [ 115 /  157]\n",
      "Batch [ 116 /  157]\n",
      "Batch [ 117 /  157]\n",
      "Batch [ 118 /  157]\n",
      "Batch [ 119 /  157]\n",
      "Batch [ 120 /  157]\n",
      "Batch [ 121 /  157]\n",
      "Batch [ 122 /  157]\n",
      "Batch [ 123 /  157]\n",
      "Batch [ 124 /  157]\n",
      "Batch [ 125 /  157]\n",
      "Batch [ 126 /  157]\n",
      "Batch [ 127 /  157]\n",
      "Batch [ 128 /  157]\n",
      "Batch [ 129 /  157]\n",
      "Batch [ 130 /  157]\n",
      "Batch [ 131 /  157]\n",
      "Batch [ 132 /  157]\n",
      "Batch [ 133 /  157]\n",
      "Batch [ 134 /  157]\n",
      "Batch [ 135 /  157]\n",
      "Batch [ 136 /  157]\n",
      "Batch [ 137 /  157]\n",
      "Batch [ 138 /  157]\n",
      "Batch [ 139 /  157]\n",
      "Batch [ 140 /  157]\n",
      "Batch [ 141 /  157]\n",
      "Batch [ 142 /  157]\n",
      "Batch [ 143 /  157]\n",
      "Batch [ 144 /  157]\n",
      "Batch [ 145 /  157]\n",
      "Batch [ 146 /  157]\n",
      "Batch [ 147 /  157]\n",
      "Batch [ 148 /  157]\n",
      "Batch [ 149 /  157]\n",
      "Batch [ 150 /  157]\n",
      "Batch [ 151 /  157]\n",
      "Batch [ 152 /  157]\n",
      "Batch [ 153 /  157]\n",
      "Batch [ 154 /  157]\n",
      "Batch [ 155 /  157]\n",
      "Batch [ 156 /  157]\n",
      "Batch [ 157 /  157]\n"
     ]
    }
   ],
   "source": [
    "all_preds = []\n",
    "all_labels = []\n",
    "net.eval()\n",
    "\n",
    "with torch.no_grad():\n",
    "    for i, data in enumerate(testloader):\n",
    "        print('Batch [%4d / %4d]' % (i+1, len(testloader)))\n",
    "        inputs, labels = data\n",
    "        outputs = net(inputs)\n",
    "        _, preds = torch.max(outputs.data, 1)\n",
    "        all_preds += list(preds.cpu().numpy())\n",
    "        all_labels += list(labels.cpu().numpy())"
   ]
  },
  {
   "cell_type": "code",
   "execution_count": 35,
   "metadata": {},
   "outputs": [
    {
     "data": {
      "text/plain": [
       "array([[680,   4, 114,  18,  20,   5,   9,  20,  94,  36],\n",
       "       [ 37, 743,  19,   8,  11,   5,   7,   6,  53, 111],\n",
       "       [ 51,   4, 667,  56,  72,  67,  33,  23,  21,   6],\n",
       "       [ 32,   4, 113, 453,  66, 172,  54,  51,  31,  24],\n",
       "       [ 23,   5, 113,  59, 632,  52,  32,  55,  24,   5],\n",
       "       [ 12,   3,  77, 104,  41, 648,  22,  61,  18,  14],\n",
       "       [ 19,  10,  82,  60,  36,  34, 716,  10,  21,  12],\n",
       "       [ 15,   0,  45,  26,  62,  65,   3, 749,   8,  27],\n",
       "       [ 42,  11,  24,  17,   5,   8,   3,   6, 866,  18],\n",
       "       [ 30,  37,  21,  21,   5,  11,   5,  20,  54, 796]], dtype=int64)"
      ]
     },
     "execution_count": 35,
     "metadata": {},
     "output_type": "execute_result"
    }
   ],
   "source": [
    "from sklearn.metrics import confusion_matrix\n",
    "cm = confusion_matrix(all_labels, all_preds);\n",
    "cm"
   ]
  },
  {
   "cell_type": "code",
   "execution_count": 36,
   "metadata": {},
   "outputs": [],
   "source": [
    "import itertools\n",
    "import matplotlib.pyplot as plt\n",
    "\n",
    "# function from https://deeplizard.com/learn/video/0LhiS6yu2qQ\n",
    "def plot_confusion_matrix(cm, classes, normalize=False, title='Confusion matrix', cmap=plt.cm.Blues):\n",
    "    if normalize:\n",
    "        cm = cm.astype('float') / cm.sum(axis=1)[:, np.newaxis]\n",
    "        print(\"Normalized confusion matrix\")\n",
    "    else:\n",
    "        print('Confusion matrix, without normalization')\n",
    "\n",
    "    plt.imshow(cm, interpolation='nearest', cmap=cmap)\n",
    "    plt.title(title)\n",
    "    plt.colorbar()\n",
    "    tick_marks = np.arange(len(classes))\n",
    "    plt.xticks(tick_marks, classes, rotation=45)\n",
    "    plt.yticks(tick_marks, classes)\n",
    "\n",
    "    fmt = '.2f' if normalize else 'd'\n",
    "    thresh = cm.max() / 2.\n",
    "    for i, j in itertools.product(range(cm.shape[0]), range(cm.shape[1])):\n",
    "        plt.text(j, i, format(cm[i, j], fmt), horizontalalignment=\"center\", color=\"white\" if cm[i, j] > thresh else \"black\")\n",
    "\n",
    "    plt.tight_layout()\n",
    "    plt.ylabel('True label')\n",
    "    plt.xlabel('Predicted label')"
   ]
  },
  {
   "cell_type": "code",
   "execution_count": 37,
   "metadata": {},
   "outputs": [],
   "source": [
    "# classes = [0, 1, 2, 3, 4, 5, 6, 7, 8, 9]\n",
    "classes = ('plane', 'car', 'bird', 'cat',\n",
    "           'deer', 'dog', 'frog', 'horse', 'ship', 'truck')"
   ]
  },
  {
   "cell_type": "code",
   "execution_count": 38,
   "metadata": {},
   "outputs": [
    {
     "name": "stdout",
     "output_type": "stream",
     "text": [
      "Normalized confusion matrix\n"
     ]
    },
    {
     "data": {
      "image/png": "[encoded data removed]",
      "text/plain": [
       "<Figure size 576x576 with 2 Axes>"
      ]
     },
     "metadata": {
      "needs_background": "light"
     },
     "output_type": "display_data"
    }
   ],
   "source": [
    "plt.figure(figsize=(8,8))\n",
    "plot_confusion_matrix(cm, list(classes), normalize=True)"
   ]
  },
  {
   "cell_type": "code",
   "execution_count": null,
   "metadata": {},
   "outputs": [],
   "source": []
  }
 ],
 "metadata": {
  "kernelspec": {
   "display_name": "Python 3 (ipykernel)",
   "language": "python",
   "name": "python3"
  },
  "language_info": {
   "codemirror_mode": {
    "name": "ipython",
    "version": 3
   },
   "file_extension": ".py",
   "mimetype": "text/x-python",
   "name": "python",
   "nbconvert_exporter": "python",
   "pygments_lexer": "ipython3",
   "version": "3.8.5"
  },
  "vscode": {
   "interpreter": {
    "hash": "b490b4668c1385ae0f294398b813d386e2e6c0063a8183501c9ea87a2bc12519"
   }
  }
 },
 "nbformat": 4,
 "nbformat_minor": 4
}
