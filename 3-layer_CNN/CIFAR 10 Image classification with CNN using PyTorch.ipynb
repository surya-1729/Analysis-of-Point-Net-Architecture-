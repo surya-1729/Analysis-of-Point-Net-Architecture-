{
 "cells": [
  {
   "cell_type": "markdown",
   "metadata": {},
   "source": [
    "## Image classification with CNN"
   ]
  },
  {
   "cell_type": "code",
   "execution_count": 41,
   "metadata": {},
   "outputs": [],
   "source": [
    "import torch\n",
    "import torchvision.datasets as datasets\n",
    "from torch.utils.data import DataLoader\n",
    "import torchvision.transforms as transforms\n",
    "import torch.nn as nn\n",
    "import torch.nn.functional as F\n",
    "import torchvision\n",
    "import matplotlib.pyplot as plt\n",
    "import numpy as np\n",
    "from torch.utils.tensorboard import SummaryWriter\n",
    "writer = SummaryWriter(\"logs/CNN/RGB_CIFAR\")\n",
    "# import albumentations as A\n",
    "#from autoaugment import CIFAR10Policy"
   ]
  },
  {
   "cell_type": "markdown",
   "metadata": {},
   "source": [
    "Device Configuration"
   ]
  },
  {
   "cell_type": "code",
   "execution_count": 42,
   "metadata": {},
   "outputs": [
    {
     "name": "stdout",
     "output_type": "stream",
     "text": [
      "cuda\n",
      "NVIDIA GeForce GTX 1660 Ti\n",
      "Memory Usage:\n",
      "Allocated: 0.0 GB\n",
      "Cached:    0.0 GB\n"
     ]
    }
   ],
   "source": [
    "# CUDA for PyTorch\n",
    "device = 'cuda' if torch.cuda.is_available() else 'cpu'\n",
    "print(device)\n",
    "if device == 'cuda':\n",
    "    print(torch.cuda.get_device_name(0))\n",
    "    print('Memory Usage:')\n",
    "    print('Allocated:', round(torch.cuda.memory_allocated(0)/1024**3,1), 'GB')\n",
    "    print('Cached:   ', round(torch.cuda.memory_reserved(0)/1024**3,1), 'GB')"
   ]
  },
  {
   "cell_type": "code",
   "execution_count": 43,
   "metadata": {},
   "outputs": [],
   "source": [
    "# Hyper-parameters \n",
    "num_epochs = 5\n",
    "batch_size = 64\n",
    "learning_rate = 0.01"
   ]
  },
  {
   "cell_type": "markdown",
   "metadata": {},
   "source": [
    "## Step1_Data for our image classification 🔄"
   ]
  },
  {
   "cell_type": "code",
   "execution_count": 44,
   "metadata": {},
   "outputs": [],
   "source": [
    "class RandomNoise(object):\n",
    "    def __call__(self, pointcloud):\n",
    "        assert len(pointcloud.shape)==2\n",
    "\n",
    "        noise = np.random.normal(0, 0.002, (pointcloud.shape))\n",
    "    \n",
    "        noisy_pointcloud = pointcloud + noise\n",
    "        return  noisy_pointcloud"
   ]
  },
  {
   "cell_type": "code",
   "execution_count": 45,
   "metadata": {},
   "outputs": [
    {
     "name": "stdout",
     "output_type": "stream",
     "text": [
      "Files already downloaded and verified\n",
      "Files already downloaded and verified\n"
     ]
    }
   ],
   "source": [
    "transform = transforms.Compose(\n",
    "    [transforms.RandomHorizontalFlip(),transforms.ToTensor()\n",
    "     ])\n",
    "\n",
    "\n",
    "trainset = torchvision.datasets.CIFAR10(root='./data', train=True,\n",
    "                                        download=True, transform=transform)\n",
    "trainloader = torch.utils.data.DataLoader(trainset, batch_size=batch_size,\n",
    "                                          shuffle=True, num_workers=2)\n",
    "\n",
    "testset = torchvision.datasets.CIFAR10(root='./data', train=False,\n",
    "                                       download=True, transform=transform)\n",
    "testloader = torch.utils.data.DataLoader(testset, batch_size=batch_size,\n",
    "                                         shuffle=False, num_workers=2)\n",
    "\n",
    "classes = ('plane', 'car', 'bird', 'cat',\n",
    "           'deer', 'dog', 'frog', 'horse', 'ship', 'truck')"
   ]
  },
  {
   "cell_type": "code",
   "execution_count": 46,
   "metadata": {},
   "outputs": [
    {
     "name": "stdout",
     "output_type": "stream",
     "text": [
      "torch.Size([64, 3, 32, 32])\n"
     ]
    }
   ],
   "source": [
    "## just for visualisation\n",
    "import matplotlib.pyplot as plt\n",
    "import numpy as np\n",
    "\n",
    "# functions to show an image\n",
    "def imshow(img):\n",
    "    print(img.shape)\n",
    "    img = img    # unnormalize\n",
    "    npimg = img.numpy()\n",
    "    #print(npimg.shape)\n",
    "    plt.imshow(np.transpose(npimg, (1, 2, 0)))\n",
    "    plt.show()\n",
    "\n",
    "# get some random training images\n",
    "dataiter = iter(trainloader)\n",
    "images, labels = dataiter.next()\n",
    "print(images.shape)\n",
    "\n",
    "img_grid = torchvision.utils.make_grid(images)\n",
    "# # show images\n",
    "# imshow(torchvision.utils.make_grid(images))\n",
    "# # print labels\n",
    "# print(' '.join(f'{classes[labels[j]]:5s}' for j in range(batch_size)))"
   ]
  },
  {
   "cell_type": "markdown",
   "metadata": {},
   "source": [
    "## Step2_Network architecture 🤖"
   ]
  },
  {
   "cell_type": "code",
   "execution_count": 47,
   "metadata": {},
   "outputs": [],
   "source": [
    "import torch.nn as nn\n",
    "import torch.nn.functional as F\n",
    "\n",
    "\n",
    "class Net(nn.Module):\n",
    "    def __init__(self):\n",
    "        super(Net, self).__init__()\n",
    "        self.conv1 = nn.Conv2d(3, 32, 3)\n",
    "        self.conv2 = nn.Conv2d(32, 64, 3)\n",
    "        self.conv3 = nn.Conv2d(64, 128, 3)\n",
    "        self.pool = nn.MaxPool2d(2, 2)\n",
    "        self.fc1 = nn.Linear(128 * 2 * 2, 128)\n",
    "        self.fc2 = nn.Linear(128, 64)\n",
    "        self.fc3 = nn.Linear(64, 32)\n",
    "        self.fc4 = nn.Linear(32, 10)\n",
    "        self.dropout1 = nn.Dropout(p=0.2, inplace=False)\n",
    "    def forward(self, x):\n",
    "        x = self.pool(F.relu(self.conv1(x)))\n",
    "        #x = self.dropout1(x)\n",
    "        x = self.pool(F.relu(self.conv2(x)))\n",
    "        #x = self.dropout1(x)\n",
    "        x = self.pool(F.relu(self.conv3(x)))\n",
    "        #x = self.dropout1(x)\n",
    "        x = x.view(-1, 128 * 2 * 2)\n",
    "        x = F.relu(self.fc1(x))\n",
    "        x = F.relu(self.fc2(x))\n",
    "        x = F.relu(self.fc3(x))\n",
    "        x = self.fc4(x) #output layer\n",
    "        \n",
    "        return x"
   ]
  },
  {
   "cell_type": "markdown",
   "metadata": {},
   "source": [
    "## Step3_Model ingredients"
   ]
  },
  {
   "cell_type": "code",
   "execution_count": 48,
   "metadata": {},
   "outputs": [],
   "source": [
    "net = Net()\n",
    "import torch.optim as optim\n",
    "\n",
    "criterion = nn.CrossEntropyLoss()\n",
    "optimizer = optim.SGD(net.parameters(), lr=0.01, momentum=0.9)\n",
    "writer.add_graph(net, images)"
   ]
  },
  {
   "cell_type": "markdown",
   "metadata": {},
   "source": [
    "## Step5_Model Training - forward, backward, weight updates"
   ]
  },
  {
   "cell_type": "code",
   "execution_count": 49,
   "metadata": {},
   "outputs": [],
   "source": [
    "def train(model, train_loader, val_loader=None,  epochs = 2, save = False):\n",
    "    for epoch in range(epochs): \n",
    "        net.train()\n",
    "        running_loss = 0.0\n",
    "        for i, data in enumerate(train_loader, 0):\n",
    "            inputs, labels = data\n",
    "            optimizer.zero_grad()\n",
    "            outputs = net(inputs)\n",
    "            loss = criterion(outputs, labels)\n",
    "            loss.backward()\n",
    "            optimizer.step()\n",
    "\n",
    "            # print statistics\n",
    "            running_loss += loss.item()\n",
    "            if i % 10 == 9:    # print every 10 mini-batches\n",
    "                    print('[Epoch: %d, Batch: %4d / %4d], loss: %.3f' %\n",
    "                        (epoch + 1, i + 1, len(train_loader), running_loss / 10))\n",
    "\n",
    "\n",
    "        writer.add_scalar(\"train/training_loss\", running_loss, epoch+1) \n",
    "\n",
    "        net.eval()\n",
    "        correct = total = 0\n",
    "\n",
    "        # validation\n",
    "        if val_loader:\n",
    "            with torch.no_grad():\n",
    "                for data in testloader:\n",
    "                    inputs, labels = data\n",
    "                    outputs = net(inputs)\n",
    "                    _, predicted = torch.max(outputs.data, 1)\n",
    "                    total += labels.size(0)\n",
    "                    correct += (predicted == labels).sum().item()\n",
    "            val_acc = 100. * correct / total\n",
    "            print('Valid accuracy: %d %%' % val_acc)\n",
    "            writer.add_scalar(\"test/validation_acc\", val_acc, epoch+1)\n",
    "\n",
    "        # save the model\n",
    "        if save:\n",
    "            torch.save(net.state_dict(), \"save_\"+str(epoch)+\".pth\")\n",
    "    writer.close()        "
   ]
  },
  {
   "cell_type": "code",
   "execution_count": 50,
   "metadata": {
    "scrolled": true
   },
   "outputs": [
    {
     "name": "stdout",
     "output_type": "stream",
     "text": [
      "[Epoch: 1, Batch:   10 /  782], loss: 2.315\n",
      "[Epoch: 1, Batch:   20 /  782], loss: 4.624\n",
      "[Epoch: 1, Batch:   30 /  782], loss: 6.928\n",
      "[Epoch: 1, Batch:   40 /  782], loss: 9.238\n",
      "[Epoch: 1, Batch:   50 /  782], loss: 11.544\n",
      "[Epoch: 1, Batch:   60 /  782], loss: 13.849\n",
      "[Epoch: 1, Batch:   70 /  782], loss: 16.156\n",
      "[Epoch: 1, Batch:   80 /  782], loss: 18.459\n",
      "[Epoch: 1, Batch:   90 /  782], loss: 20.765\n",
      "[Epoch: 1, Batch:  100 /  782], loss: 23.069\n",
      "[Epoch: 1, Batch:  110 /  782], loss: 25.372\n",
      "[Epoch: 1, Batch:  120 /  782], loss: 27.676\n",
      "[Epoch: 1, Batch:  130 /  782], loss: 29.978\n",
      "[Epoch: 1, Batch:  140 /  782], loss: 32.281\n",
      "[Epoch: 1, Batch:  150 /  782], loss: 34.582\n",
      "[Epoch: 1, Batch:  160 /  782], loss: 36.886\n",
      "[Epoch: 1, Batch:  170 /  782], loss: 39.188\n",
      "[Epoch: 1, Batch:  180 /  782], loss: 41.489\n",
      "[Epoch: 1, Batch:  190 /  782], loss: 43.790\n",
      "[Epoch: 1, Batch:  200 /  782], loss: 46.092\n",
      "[Epoch: 1, Batch:  210 /  782], loss: 48.393\n",
      "[Epoch: 1, Batch:  220 /  782], loss: 50.695\n",
      "[Epoch: 1, Batch:  230 /  782], loss: 52.998\n",
      "[Epoch: 1, Batch:  240 /  782], loss: 55.299\n",
      "[Epoch: 1, Batch:  250 /  782], loss: 57.602\n",
      "[Epoch: 1, Batch:  260 /  782], loss: 59.901\n",
      "[Epoch: 1, Batch:  270 /  782], loss: 62.203\n",
      "[Epoch: 1, Batch:  280 /  782], loss: 64.503\n",
      "[Epoch: 1, Batch:  290 /  782], loss: 66.806\n",
      "[Epoch: 1, Batch:  300 /  782], loss: 69.110\n",
      "[Epoch: 1, Batch:  310 /  782], loss: 71.412\n",
      "[Epoch: 1, Batch:  320 /  782], loss: 73.712\n",
      "[Epoch: 1, Batch:  330 /  782], loss: 76.014\n",
      "[Epoch: 1, Batch:  340 /  782], loss: 78.316\n",
      "[Epoch: 1, Batch:  350 /  782], loss: 80.616\n",
      "[Epoch: 1, Batch:  360 /  782], loss: 82.916\n",
      "[Epoch: 1, Batch:  370 /  782], loss: 85.215\n",
      "[Epoch: 1, Batch:  380 /  782], loss: 87.514\n",
      "[Epoch: 1, Batch:  390 /  782], loss: 89.812\n",
      "[Epoch: 1, Batch:  400 /  782], loss: 92.114\n",
      "[Epoch: 1, Batch:  410 /  782], loss: 94.412\n",
      "[Epoch: 1, Batch:  420 /  782], loss: 96.712\n",
      "[Epoch: 1, Batch:  430 /  782], loss: 99.011\n",
      "[Epoch: 1, Batch:  440 /  782], loss: 101.308\n",
      "[Epoch: 1, Batch:  450 /  782], loss: 103.607\n",
      "[Epoch: 1, Batch:  460 /  782], loss: 105.903\n",
      "[Epoch: 1, Batch:  470 /  782], loss: 108.200\n",
      "[Epoch: 1, Batch:  480 /  782], loss: 110.494\n",
      "[Epoch: 1, Batch:  490 /  782], loss: 112.790\n",
      "[Epoch: 1, Batch:  500 /  782], loss: 115.082\n",
      "[Epoch: 1, Batch:  510 /  782], loss: 117.371\n",
      "[Epoch: 1, Batch:  520 /  782], loss: 119.658\n",
      "[Epoch: 1, Batch:  530 /  782], loss: 121.949\n",
      "[Epoch: 1, Batch:  540 /  782], loss: 124.237\n",
      "[Epoch: 1, Batch:  550 /  782], loss: 126.521\n",
      "[Epoch: 1, Batch:  560 /  782], loss: 128.794\n",
      "[Epoch: 1, Batch:  570 /  782], loss: 131.072\n",
      "[Epoch: 1, Batch:  580 /  782], loss: 133.336\n",
      "[Epoch: 1, Batch:  590 /  782], loss: 135.593\n",
      "[Epoch: 1, Batch:  600 /  782], loss: 137.835\n",
      "[Epoch: 1, Batch:  610 /  782], loss: 140.068\n",
      "[Epoch: 1, Batch:  620 /  782], loss: 142.282\n",
      "[Epoch: 1, Batch:  630 /  782], loss: 144.476\n",
      "[Epoch: 1, Batch:  640 /  782], loss: 146.695\n",
      "[Epoch: 1, Batch:  650 /  782], loss: 148.913\n",
      "[Epoch: 1, Batch:  660 /  782], loss: 151.057\n",
      "[Epoch: 1, Batch:  670 /  782], loss: 153.232\n",
      "[Epoch: 1, Batch:  680 /  782], loss: 155.363\n",
      "[Epoch: 1, Batch:  690 /  782], loss: 157.471\n",
      "[Epoch: 1, Batch:  700 /  782], loss: 159.605\n",
      "[Epoch: 1, Batch:  710 /  782], loss: 161.765\n",
      "[Epoch: 1, Batch:  720 /  782], loss: 163.902\n",
      "[Epoch: 1, Batch:  730 /  782], loss: 166.040\n",
      "[Epoch: 1, Batch:  740 /  782], loss: 168.149\n",
      "[Epoch: 1, Batch:  750 /  782], loss: 170.251\n",
      "[Epoch: 1, Batch:  760 /  782], loss: 172.343\n",
      "[Epoch: 1, Batch:  770 /  782], loss: 174.457\n",
      "[Epoch: 1, Batch:  780 /  782], loss: 176.548\n",
      "Valid accuracy: 20 %\n",
      "[Epoch: 2, Batch:   10 /  782], loss: 2.052\n",
      "[Epoch: 2, Batch:   20 /  782], loss: 4.166\n",
      "[Epoch: 2, Batch:   30 /  782], loss: 6.277\n",
      "[Epoch: 2, Batch:   40 /  782], loss: 8.376\n",
      "[Epoch: 2, Batch:   50 /  782], loss: 10.461\n",
      "[Epoch: 2, Batch:   60 /  782], loss: 12.559\n",
      "[Epoch: 2, Batch:   70 /  782], loss: 14.623\n",
      "[Epoch: 2, Batch:   80 /  782], loss: 16.678\n",
      "[Epoch: 2, Batch:   90 /  782], loss: 18.731\n",
      "[Epoch: 2, Batch:  100 /  782], loss: 20.791\n",
      "[Epoch: 2, Batch:  110 /  782], loss: 22.807\n",
      "[Epoch: 2, Batch:  120 /  782], loss: 24.840\n",
      "[Epoch: 2, Batch:  130 /  782], loss: 26.912\n",
      "[Epoch: 2, Batch:  140 /  782], loss: 28.936\n",
      "[Epoch: 2, Batch:  150 /  782], loss: 30.953\n",
      "[Epoch: 2, Batch:  160 /  782], loss: 33.050\n",
      "[Epoch: 2, Batch:  170 /  782], loss: 35.210\n",
      "[Epoch: 2, Batch:  180 /  782], loss: 37.283\n",
      "[Epoch: 2, Batch:  190 /  782], loss: 39.332\n",
      "[Epoch: 2, Batch:  200 /  782], loss: 41.369\n",
      "[Epoch: 2, Batch:  210 /  782], loss: 43.404\n",
      "[Epoch: 2, Batch:  220 /  782], loss: 45.392\n",
      "[Epoch: 2, Batch:  230 /  782], loss: 47.354\n",
      "[Epoch: 2, Batch:  240 /  782], loss: 49.352\n",
      "[Epoch: 2, Batch:  250 /  782], loss: 51.319\n",
      "[Epoch: 2, Batch:  260 /  782], loss: 53.273\n",
      "[Epoch: 2, Batch:  270 /  782], loss: 55.240\n",
      "[Epoch: 2, Batch:  280 /  782], loss: 57.222\n",
      "[Epoch: 2, Batch:  290 /  782], loss: 59.193\n",
      "[Epoch: 2, Batch:  300 /  782], loss: 61.173\n",
      "[Epoch: 2, Batch:  310 /  782], loss: 63.178\n",
      "[Epoch: 2, Batch:  320 /  782], loss: 65.150\n",
      "[Epoch: 2, Batch:  330 /  782], loss: 67.137\n",
      "[Epoch: 2, Batch:  340 /  782], loss: 69.060\n",
      "[Epoch: 2, Batch:  350 /  782], loss: 70.907\n",
      "[Epoch: 2, Batch:  360 /  782], loss: 72.839\n",
      "[Epoch: 2, Batch:  370 /  782], loss: 74.661\n",
      "[Epoch: 2, Batch:  380 /  782], loss: 76.559\n",
      "[Epoch: 2, Batch:  390 /  782], loss: 78.485\n",
      "[Epoch: 2, Batch:  400 /  782], loss: 80.378\n",
      "[Epoch: 2, Batch:  410 /  782], loss: 82.273\n",
      "[Epoch: 2, Batch:  420 /  782], loss: 84.104\n",
      "[Epoch: 2, Batch:  430 /  782], loss: 86.058\n",
      "[Epoch: 2, Batch:  440 /  782], loss: 87.914\n",
      "[Epoch: 2, Batch:  450 /  782], loss: 89.818\n",
      "[Epoch: 2, Batch:  460 /  782], loss: 91.710\n",
      "[Epoch: 2, Batch:  470 /  782], loss: 93.538\n",
      "[Epoch: 2, Batch:  480 /  782], loss: 95.367\n",
      "[Epoch: 2, Batch:  490 /  782], loss: 97.162\n",
      "[Epoch: 2, Batch:  500 /  782], loss: 98.931\n",
      "[Epoch: 2, Batch:  510 /  782], loss: 100.686\n",
      "[Epoch: 2, Batch:  520 /  782], loss: 102.498\n",
      "[Epoch: 2, Batch:  530 /  782], loss: 104.287\n",
      "[Epoch: 2, Batch:  540 /  782], loss: 106.064\n",
      "[Epoch: 2, Batch:  550 /  782], loss: 107.787\n",
      "[Epoch: 2, Batch:  560 /  782], loss: 109.584\n",
      "[Epoch: 2, Batch:  570 /  782], loss: 111.273\n",
      "[Epoch: 2, Batch:  580 /  782], loss: 113.036\n",
      "[Epoch: 2, Batch:  590 /  782], loss: 114.780\n",
      "[Epoch: 2, Batch:  600 /  782], loss: 116.552\n",
      "[Epoch: 2, Batch:  610 /  782], loss: 118.251\n",
      "[Epoch: 2, Batch:  620 /  782], loss: 119.982\n",
      "[Epoch: 2, Batch:  630 /  782], loss: 121.763\n",
      "[Epoch: 2, Batch:  640 /  782], loss: 123.563\n",
      "[Epoch: 2, Batch:  650 /  782], loss: 125.344\n",
      "[Epoch: 2, Batch:  660 /  782], loss: 127.032\n",
      "[Epoch: 2, Batch:  670 /  782], loss: 128.760\n",
      "[Epoch: 2, Batch:  680 /  782], loss: 130.464\n",
      "[Epoch: 2, Batch:  690 /  782], loss: 132.143\n",
      "[Epoch: 2, Batch:  700 /  782], loss: 133.860\n",
      "[Epoch: 2, Batch:  710 /  782], loss: 135.554\n",
      "[Epoch: 2, Batch:  720 /  782], loss: 137.258\n",
      "[Epoch: 2, Batch:  730 /  782], loss: 138.933\n",
      "[Epoch: 2, Batch:  740 /  782], loss: 140.620\n",
      "[Epoch: 2, Batch:  750 /  782], loss: 142.286\n",
      "[Epoch: 2, Batch:  760 /  782], loss: 143.953\n",
      "[Epoch: 2, Batch:  770 /  782], loss: 145.666\n",
      "[Epoch: 2, Batch:  780 /  782], loss: 147.392\n",
      "Valid accuracy: 38 %\n"
     ]
    }
   ],
   "source": [
    "train(net, trainloader, testloader,  save=False)"
   ]
  },
  {
   "cell_type": "code",
   "execution_count": 51,
   "metadata": {
    "scrolled": true
   },
   "outputs": [
    {
     "name": "stdout",
     "output_type": "stream",
     "text": [
      "Batch [   1 /  157]\n",
      "Batch [   2 /  157]\n",
      "Batch [   3 /  157]\n",
      "Batch [   4 /  157]\n",
      "Batch [   5 /  157]\n",
      "Batch [   6 /  157]\n",
      "Batch [   7 /  157]\n",
      "Batch [   8 /  157]\n",
      "Batch [   9 /  157]\n",
      "Batch [  10 /  157]\n",
      "Batch [  11 /  157]\n",
      "Batch [  12 /  157]\n",
      "Batch [  13 /  157]\n",
      "Batch [  14 /  157]\n",
      "Batch [  15 /  157]\n",
      "Batch [  16 /  157]\n",
      "Batch [  17 /  157]\n",
      "Batch [  18 /  157]\n",
      "Batch [  19 /  157]\n",
      "Batch [  20 /  157]\n",
      "Batch [  21 /  157]\n",
      "Batch [  22 /  157]\n",
      "Batch [  23 /  157]\n",
      "Batch [  24 /  157]\n",
      "Batch [  25 /  157]\n",
      "Batch [  26 /  157]\n",
      "Batch [  27 /  157]\n",
      "Batch [  28 /  157]\n",
      "Batch [  29 /  157]\n",
      "Batch [  30 /  157]\n",
      "Batch [  31 /  157]\n",
      "Batch [  32 /  157]\n",
      "Batch [  33 /  157]\n",
      "Batch [  34 /  157]\n",
      "Batch [  35 /  157]\n",
      "Batch [  36 /  157]\n",
      "Batch [  37 /  157]\n",
      "Batch [  38 /  157]\n",
      "Batch [  39 /  157]\n",
      "Batch [  40 /  157]\n",
      "Batch [  41 /  157]\n",
      "Batch [  42 /  157]\n",
      "Batch [  43 /  157]\n",
      "Batch [  44 /  157]\n",
      "Batch [  45 /  157]\n",
      "Batch [  46 /  157]\n",
      "Batch [  47 /  157]\n",
      "Batch [  48 /  157]\n",
      "Batch [  49 /  157]\n",
      "Batch [  50 /  157]\n",
      "Batch [  51 /  157]\n",
      "Batch [  52 /  157]\n",
      "Batch [  53 /  157]\n",
      "Batch [  54 /  157]\n",
      "Batch [  55 /  157]\n",
      "Batch [  56 /  157]\n",
      "Batch [  57 /  157]\n",
      "Batch [  58 /  157]\n",
      "Batch [  59 /  157]\n",
      "Batch [  60 /  157]\n",
      "Batch [  61 /  157]\n",
      "Batch [  62 /  157]\n",
      "Batch [  63 /  157]\n",
      "Batch [  64 /  157]\n",
      "Batch [  65 /  157]\n",
      "Batch [  66 /  157]\n",
      "Batch [  67 /  157]\n",
      "Batch [  68 /  157]\n",
      "Batch [  69 /  157]\n",
      "Batch [  70 /  157]\n",
      "Batch [  71 /  157]\n",
      "Batch [  72 /  157]\n",
      "Batch [  73 /  157]\n",
      "Batch [  74 /  157]\n",
      "Batch [  75 /  157]\n",
      "Batch [  76 /  157]\n",
      "Batch [  77 /  157]\n",
      "Batch [  78 /  157]\n",
      "Batch [  79 /  157]\n",
      "Batch [  80 /  157]\n",
      "Batch [  81 /  157]\n",
      "Batch [  82 /  157]\n",
      "Batch [  83 /  157]\n",
      "Batch [  84 /  157]\n",
      "Batch [  85 /  157]\n",
      "Batch [  86 /  157]\n",
      "Batch [  87 /  157]\n",
      "Batch [  88 /  157]\n",
      "Batch [  89 /  157]\n",
      "Batch [  90 /  157]\n",
      "Batch [  91 /  157]\n",
      "Batch [  92 /  157]\n",
      "Batch [  93 /  157]\n",
      "Batch [  94 /  157]\n",
      "Batch [  95 /  157]\n",
      "Batch [  96 /  157]\n",
      "Batch [  97 /  157]\n",
      "Batch [  98 /  157]\n",
      "Batch [  99 /  157]\n",
      "Batch [ 100 /  157]\n",
      "Batch [ 101 /  157]\n",
      "Batch [ 102 /  157]\n",
      "Batch [ 103 /  157]\n",
      "Batch [ 104 /  157]\n",
      "Batch [ 105 /  157]\n",
      "Batch [ 106 /  157]\n",
      "Batch [ 107 /  157]\n",
      "Batch [ 108 /  157]\n",
      "Batch [ 109 /  157]\n",
      "Batch [ 110 /  157]\n",
      "Batch [ 111 /  157]\n",
      "Batch [ 112 /  157]\n",
      "Batch [ 113 /  157]\n",
      "Batch [ 114 /  157]\n",
      "Batch [ 115 /  157]\n",
      "Batch [ 116 /  157]\n",
      "Batch [ 117 /  157]\n",
      "Batch [ 118 /  157]\n",
      "Batch [ 119 /  157]\n",
      "Batch [ 120 /  157]\n",
      "Batch [ 121 /  157]\n",
      "Batch [ 122 /  157]\n",
      "Batch [ 123 /  157]\n",
      "Batch [ 124 /  157]\n",
      "Batch [ 125 /  157]\n",
      "Batch [ 126 /  157]\n",
      "Batch [ 127 /  157]\n",
      "Batch [ 128 /  157]\n",
      "Batch [ 129 /  157]\n",
      "Batch [ 130 /  157]\n",
      "Batch [ 131 /  157]\n",
      "Batch [ 132 /  157]\n",
      "Batch [ 133 /  157]\n",
      "Batch [ 134 /  157]\n",
      "Batch [ 135 /  157]\n",
      "Batch [ 136 /  157]\n",
      "Batch [ 137 /  157]\n",
      "Batch [ 138 /  157]\n",
      "Batch [ 139 /  157]\n",
      "Batch [ 140 /  157]\n",
      "Batch [ 141 /  157]\n",
      "Batch [ 142 /  157]\n",
      "Batch [ 143 /  157]\n",
      "Batch [ 144 /  157]\n",
      "Batch [ 145 /  157]\n",
      "Batch [ 146 /  157]\n",
      "Batch [ 147 /  157]\n",
      "Batch [ 148 /  157]\n",
      "Batch [ 149 /  157]\n",
      "Batch [ 150 /  157]\n",
      "Batch [ 151 /  157]\n",
      "Batch [ 152 /  157]\n",
      "Batch [ 153 /  157]\n",
      "Batch [ 154 /  157]\n",
      "Batch [ 155 /  157]\n",
      "Batch [ 156 /  157]\n",
      "Batch [ 157 /  157]\n"
     ]
    }
   ],
   "source": [
    "all_preds = []\n",
    "all_labels = []\n",
    "net.eval()\n",
    "\n",
    "with torch.no_grad():\n",
    "    for i, data in enumerate(testloader):\n",
    "        print('Batch [%4d / %4d]' % (i+1, len(testloader)))\n",
    "        inputs, labels = data\n",
    "        outputs = net(inputs)\n",
    "        _, preds = torch.max(outputs.data, 1)\n",
    "        all_preds += list(preds.cpu().numpy())\n",
    "        all_labels += list(labels.cpu().numpy())"
   ]
  },
  {
   "cell_type": "code",
   "execution_count": 52,
   "metadata": {},
   "outputs": [
    {
     "data": {
      "text/plain": [
       "array([[303, 137,  42,  43,  16,   4,  25,  38, 337,  55],\n",
       "       [  7, 817,   0,  28,   0,   0,  22,  10,  62,  54],\n",
       "       [ 66,  54,  75, 178, 146,  87, 234, 115,  21,  24],\n",
       "       [ 25,  59,  37, 256,  48, 149, 230, 153,   7,  36],\n",
       "       [ 37,  40,  26, 119, 166,  28, 435, 110,  20,  19],\n",
       "       [ 12,  28,  22, 248,  44, 303, 160, 160,   7,  16],\n",
       "       [  6,  53,  12,  71,  67,  17, 669,  79,   2,  24],\n",
       "       [ 20,  36,  10, 144,  37,  91, 119, 457,   9,  77],\n",
       "       [113, 255,  11,  37,   8,   4,  19,  16, 499,  38],\n",
       "       [ 12, 541,   0,  25,   3,   1,  32,  44,  76, 266]], dtype=int64)"
      ]
     },
     "execution_count": 52,
     "metadata": {},
     "output_type": "execute_result"
    }
   ],
   "source": [
    "from sklearn.metrics import confusion_matrix\n",
    "cm = confusion_matrix(all_labels, all_preds);\n",
    "cm"
   ]
  },
  {
   "cell_type": "code",
   "execution_count": 53,
   "metadata": {},
   "outputs": [],
   "source": [
    "import itertools\n",
    "import matplotlib.pyplot as plt\n",
    "\n",
    "# function from https://deeplizard.com/learn/video/0LhiS6yu2qQ\n",
    "def plot_confusion_matrix(cm, classes, normalize=False, title='Confusion matrix', cmap=plt.cm.Blues):\n",
    "    if normalize:\n",
    "        cm = cm.astype('float') / cm.sum(axis=1)[:, np.newaxis]\n",
    "        print(\"Normalized confusion matrix\")\n",
    "    else:\n",
    "        print('Confusion matrix, without normalization')\n",
    "\n",
    "    plt.imshow(cm, interpolation='nearest', cmap=cmap)\n",
    "    plt.title(title)\n",
    "    plt.colorbar()\n",
    "    tick_marks = np.arange(len(classes))\n",
    "    plt.xticks(tick_marks, classes, rotation=45)\n",
    "    plt.yticks(tick_marks, classes)\n",
    "\n",
    "    fmt = '.2f' if normalize else 'd'\n",
    "    thresh = cm.max() / 2.\n",
    "    for i, j in itertools.product(range(cm.shape[0]), range(cm.shape[1])):\n",
    "        plt.text(j, i, format(cm[i, j], fmt), horizontalalignment=\"center\", color=\"white\" if cm[i, j] > thresh else \"black\")\n",
    "\n",
    "    plt.tight_layout()\n",
    "    plt.ylabel('True label')\n",
    "    plt.xlabel('Predicted label')"
   ]
  },
  {
   "cell_type": "code",
   "execution_count": 54,
   "metadata": {},
   "outputs": [],
   "source": [
    "# classes = [0, 1, 2, 3, 4, 5, 6, 7, 8, 9]\n",
    "classes = ('plane', 'car', 'bird', 'cat',\n",
    "           'deer', 'dog', 'frog', 'horse', 'ship', 'truck')"
   ]
  },
  {
   "cell_type": "code",
   "execution_count": 55,
   "metadata": {},
   "outputs": [
    {
     "name": "stdout",
     "output_type": "stream",
     "text": [
      "Normalized confusion matrix\n"
     ]
    },
    {
     "data": {
      "image/png": "[encoded data removed]",
      "text/plain": [
       "<Figure size 576x576 with 2 Axes>"
      ]
     },
     "metadata": {
      "needs_background": "light"
     },
     "output_type": "display_data"
    }
   ],
   "source": [
    "plt.figure(figsize=(8,8))\n",
    "plot_confusion_matrix(cm, list(classes), normalize=True)"
   ]
  },
  {
   "cell_type": "code",
   "execution_count": null,
   "metadata": {},
   "outputs": [],
   "source": []
  }
 ],
 "metadata": {
  "kernelspec": {
   "display_name": "Python 3 (ipykernel)",
   "language": "python",
   "name": "python3"
  },
  "language_info": {
   "codemirror_mode": {
    "name": "ipython",
    "version": 3
   },
   "file_extension": ".py",
   "mimetype": "text/x-python",
   "name": "python",
   "nbconvert_exporter": "python",
   "pygments_lexer": "ipython3",
   "version": "3.8.5"
  },
  "vscode": {
   "interpreter": {
    "hash": "b490b4668c1385ae0f294398b813d386e2e6c0063a8183501c9ea87a2bc12519"
   }
  }
 },
 "nbformat": 4,
 "nbformat_minor": 4
}
