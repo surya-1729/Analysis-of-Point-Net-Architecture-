{
 "cells": [
  {
   "cell_type": "code",
   "execution_count": 3,
   "metadata": {},
   "outputs": [],
   "source": [
    "import numpy as np\n",
    "\n",
    "def transform_img2pc(img):\n",
    "    img_array = np.asarray(img)\n",
    "    indices = np.argwhere(img_array > 100)\n",
    "    return indices.astype(np.float32)"
   ]
  },
  {
   "cell_type": "code",
   "execution_count": 4,
   "metadata": {},
   "outputs": [
    {
     "name": "stdout",
     "output_type": "stream",
     "text": [
      "Files already downloaded and verified\n"
     ]
    },
    {
     "data": {
      "image/png": "[encoded data removed]",
      "text/plain": [
       "<Figure size 432x288 with 1 Axes>"
      ]
     },
     "metadata": {
      "needs_background": "light"
     },
     "output_type": "display_data"
    }
   ],
   "source": [
    "from torchvision.datasets import CIFAR10\n",
    "import matplotlib.pyplot as plt\n",
    "import torchvision\n",
    "\n",
    "transforms = torchvision.transforms.Compose([torchvision.transforms.Grayscale(num_output_channels=1)])\n",
    "                                   \n",
    "\n",
    "dataset = CIFAR10(root='.././data', train=True, download=True, transform=transforms)\n",
    "len_points = []\n",
    "# loop over samples\n",
    "for idx in range(len(dataset)):\n",
    "    img,label = dataset[idx]\n",
    "    pc = transform_img2pc(img)\n",
    "    len_points.append(len(pc))\n",
    "#print(min(len_points), max(len_points))    \n",
    "    \n",
    "h = plt.hist(len_points)\n",
    "plt.title('Histogram of amount of points per number')\n",
    "plt.savefig('figures/histogram_points_cifar.png',dpi=100)"
   ]
  }
 ],
 "metadata": {
  "kernelspec": {
   "display_name": "dl21",
   "language": "python",
   "name": "python3"
  },
  "language_info": {
   "codemirror_mode": {
    "name": "ipython",
    "version": 3
   },
   "file_extension": ".py",
   "mimetype": "text/x-python",
   "name": "python",
   "nbconvert_exporter": "python",
   "pygments_lexer": "ipython3",
   "version": "3.8.5"
  },
  "orig_nbformat": 4,
  "vscode": {
   "interpreter": {
    "hash": "b490b4668c1385ae0f294398b813d386e2e6c0063a8183501c9ea87a2bc12519"
   }
  }
 },
 "nbformat": 4,
 "nbformat_minor": 2
}
